{
  "nbformat": 4,
  "nbformat_minor": 0,
  "metadata": {
    "colab": {
      "name": "충남대 배재대 AI 딥러닝 3주차",
      "provenance": [],
      "collapsed_sections": [],
      "authorship_tag": "ABX9TyPzevY/4aeptiyAvej6XWsJ",
      "include_colab_link": true
    },
    "kernelspec": {
      "name": "python3",
      "display_name": "Python 3"
    }
  },
  "cells": [
    {
      "cell_type": "markdown",
      "metadata": {
        "id": "view-in-github",
        "colab_type": "text"
      },
      "source": [
        "<a href=\"https://colab.research.google.com/github/ksy-20908/godoheon/blob/main/%EC%B6%A9%EB%82%A8%EB%8C%80_%EB%B0%B0%EC%9E%AC%EB%8C%80_AI_%EB%94%A5%EB%9F%AC%EB%8B%9D_3%EC%A3%BC%EC%B0%A8.ipynb\" target=\"_parent\"><img src=\"https://colab.research.google.com/assets/colab-badge.svg\" alt=\"Open In Colab\"/></a>"
      ]
    },
    {
      "cell_type": "code",
      "metadata": {
        "id": "fbYGQtuP-ERK",
        "colab": {
          "base_uri": "https://localhost:8080/",
          "height": 35
        },
        "outputId": "0e73bc3c-cafa-4af6-b311-04f15a671c23"
      },
      "source": [
        "# 도구 준비\n",
        "import os\n",
        "import shutil\n",
        "import random\n",
        "import re                                # 문자열 처리\n",
        "import string                            # 문자열 처리\n",
        "\n",
        "import tensorflow as tf                  # 텐서플로우\n",
        "import matplotlib.pyplot as plt\n",
        "%matplotlib inline\n",
        "import matplotlib.font_manager as fm\n",
        "import numpy as np\n",
        "\n",
        "print(f'Tensorflow 버전을 확인합니다: {tf.__version__}')"
      ],
      "execution_count": null,
      "outputs": [
        {
          "output_type": "stream",
          "text": [
            "Tensorflow 버전을 확인합니다: 2.2.0\n"
          ],
          "name": "stdout"
        }
      ]
    },
    {
      "cell_type": "code",
      "metadata": {
        "id": "Y9sVywkj-uo9",
        "colab": {
          "base_uri": "https://localhost:8080/",
          "height": 35
        },
        "outputId": "353ca219-a7ae-416f-c720-c0e3d54d82e3"
      },
      "source": [
        "# 시각화 도구 (matplotlib) 한글 폰트\n",
        "fonts = fm.findSystemFonts()\n",
        "nanum_path = None\n",
        "for font in fonts:\n",
        "    if font.endswith('NanumGothic.ttf'):\n",
        "        nanum_path = font\n",
        "        break\n",
        "if nanum_path == None:\n",
        "    print(f'나눔 폰트를 설치해야 합니다!')\n",
        "    print(f'!apt install -qq -y fonts-nanum*')\n",
        "else:\n",
        "    print(f'나눔 폰트 경로: {nanum_path}')\n",
        "    nanum_prop = fm.FontProperties(fname=nanum_path)"
      ],
      "execution_count": null,
      "outputs": [
        {
          "output_type": "stream",
          "text": [
            "나눔 폰트 경로: /usr/share/fonts/truetype/nanum/NanumGothic.ttf\n"
          ],
          "name": "stdout"
        }
      ]
    },
    {
      "cell_type": "code",
      "metadata": {
        "id": "N7ssXJKuEUCI",
        "colab": {
          "base_uri": "https://localhost:8080/",
          "height": 485
        },
        "outputId": "2cd0b932-a5f5-4b7e-b282-e48c5450ffd6"
      },
      "source": [
        "!apt install -qq -y fonts-nanum*"
      ],
      "execution_count": null,
      "outputs": [
        {
          "output_type": "stream",
          "text": [
            "The following package was automatically installed and is no longer required:\n",
            "  libnvidia-common-440\n",
            "Use 'apt autoremove' to remove it.\n",
            "The following NEW packages will be installed:\n",
            "  fonts-nanum fonts-nanum-coding fonts-nanum-eco fonts-nanum-extra\n",
            "0 upgraded, 4 newly installed, 0 to remove and 35 not upgraded.\n",
            "Need to get 37.0 MB of archives.\n",
            "After this operation, 145 MB of additional disk space will be used.\n",
            "Selecting previously unselected package fonts-nanum.\n",
            "(Reading database ... 144465 files and directories currently installed.)\n",
            "Preparing to unpack .../fonts-nanum_20170925-1_all.deb ...\n",
            "Unpacking fonts-nanum (20170925-1) ...\n",
            "Selecting previously unselected package fonts-nanum-eco.\n",
            "Preparing to unpack .../fonts-nanum-eco_1.000-6_all.deb ...\n",
            "Unpacking fonts-nanum-eco (1.000-6) ...\n",
            "Selecting previously unselected package fonts-nanum-extra.\n",
            "Preparing to unpack .../fonts-nanum-extra_20170925-1_all.deb ...\n",
            "Unpacking fonts-nanum-extra (20170925-1) ...\n",
            "Selecting previously unselected package fonts-nanum-coding.\n",
            "Preparing to unpack .../fonts-nanum-coding_2.5-1_all.deb ...\n",
            "Unpacking fonts-nanum-coding (2.5-1) ...\n",
            "Setting up fonts-nanum-extra (20170925-1) ...\n",
            "Setting up fonts-nanum (20170925-1) ...\n",
            "Setting up fonts-nanum-coding (2.5-1) ...\n",
            "Setting up fonts-nanum-eco (1.000-6) ...\n",
            "Processing triggers for fontconfig (2.12.6-0ubuntu2) ...\n"
          ],
          "name": "stdout"
        }
      ]
    },
    {
      "cell_type": "code",
      "metadata": {
        "id": "mDtX1WRB-ux7",
        "colab": {
          "base_uri": "https://localhost:8080/",
          "height": 53
        },
        "outputId": "77a2a9ef-1ea8-42a4-811d-a79c45bb9b9e"
      },
      "source": [
        "# ACL 2011 IMDB 데이터셋: 영화 리뷰 데이터셋 (ACL 2011 IMDB 논문에 사용된  데이터셋) 학습 데이터 다운로드\n",
        "url = 'https://ai.stanford.edu/~amaas/data/sentiment/aclImdb_v1.tar.gz'\n",
        "dataset = tf.keras.utils.get_file('aclImdb_v1.tar.gz', url,\n",
        "                                  untar=True, cache_dir='.',\n",
        "                                  cache_subdir='')\n",
        "dataset_dir = os.path.join(os.path.dirname(dataset), 'aclImdb')"
      ],
      "execution_count": null,
      "outputs": [
        {
          "output_type": "stream",
          "text": [
            "Downloading data from https://ai.stanford.edu/~amaas/data/sentiment/aclImdb_v1.tar.gz\n",
            "84131840/84125825 [==============================] - 9s 0us/step\n"
          ],
          "name": "stdout"
        }
      ]
    },
    {
      "cell_type": "code",
      "metadata": {
        "id": "HZCNNjAK-u2C",
        "colab": {
          "base_uri": "https://localhost:8080/",
          "height": 53
        },
        "outputId": "e27f863d-afd0-4b28-d64f-aeaf35ca0e23"
      },
      "source": [
        "# 데이터 확인\n",
        "print(f'데이터 압축 디렉터리 내부: {os.listdir(dataset_dir)}')\n",
        "\n",
        "# 학습 데이터 구조 확인\n",
        "train_dir = os.path.join(dataset_dir, 'train')\n",
        "print(f'학습 데이터 디렉터리 내부: {os.listdir(train_dir)}')"
      ],
      "execution_count": null,
      "outputs": [
        {
          "output_type": "stream",
          "text": [
            "데이터 압축 디렉터리 내부: ['imdb.vocab', 'imdbEr.txt', 'test', 'README', 'train']\n",
            "학습 데이터 디렉터리 내부: ['urls_unsup.txt', 'unsupBow.feat', 'unsup', 'urls_neg.txt', 'pos', 'labeledBow.feat', 'neg', 'urls_pos.txt']\n"
          ],
          "name": "stdout"
        }
      ]
    },
    {
      "cell_type": "code",
      "metadata": {
        "id": "pHj3ju1d-u46",
        "colab": {
          "base_uri": "https://localhost:8080/",
          "height": 53
        },
        "outputId": "d781ad20-2091-40a5-980a-502e0f289e1c"
      },
      "source": [
        "# 긍정 / 부정 데이터 파일 경로 확인 무작위로 10개씩 생성됨\n",
        "pos_train_dir = os.path.join(train_dir, 'pos')\n",
        "pos_train_files = os.listdir(pos_train_dir)\n",
        "neg_train_dir = os.path.join(train_dir, 'neg')\n",
        "neg_train_files = os.listdir(neg_train_dir)\n",
        "print('긍정 파일: ', end='')\n",
        "for _ in range(0, 10):\n",
        "    print(random.choice(pos_train_files), end=' ')\n",
        "print()\n",
        "print('부정 파일: ', end='')\n",
        "for _ in range(0, 10):\n",
        "    print(random.choice(neg_train_files), end=' ')\n",
        "print()\n",
        "# 앞숫자는 평점 번호 _ 숫자는 평점"
      ],
      "execution_count": null,
      "outputs": [
        {
          "output_type": "stream",
          "text": [
            "긍정 파일: 8679_8.txt 10996_8.txt 3604_10.txt 6160_10.txt 10014_8.txt 8508_7.txt 1801_8.txt 3937_8.txt 3171_9.txt 10273_8.txt \n",
            "부정 파일: 2830_3.txt 465_1.txt 1128_1.txt 7311_2.txt 1745_2.txt 4742_1.txt 4841_2.txt 7014_3.txt 1001_4.txt 8586_3.txt \n"
          ],
          "name": "stdout"
        }
      ]
    },
    {
      "cell_type": "code",
      "metadata": {
        "id": "0epfQYRG-u8K",
        "colab": {
          "base_uri": "https://localhost:8080/",
          "height": 55
        },
        "outputId": "3993bea9-5b57-4f31-e3cd-bd913d55c0d4"
      },
      "source": [
        "# 학습 데이터 내용 살펴보기 긍정 데이터를 가져오면 내용이 무엇인지 확인 가능\n",
        "sample_file = os.path.join(train_dir, 'pos', '7243_10.txt')\n",
        "with open(sample_file, 'r') as f:\n",
        "    print(f.read())"
      ],
      "execution_count": null,
      "outputs": [
        {
          "output_type": "stream",
          "text": [
            "A brilliant Russian émigré devises the Stanislavsky' system for winning at contract bridge - which makes him and his beautiful wife the GRAND SLAM Sweethearts of America.<br /><br />What could have been just another silly soap opera is elevated by fine production values & excellent acting to the status of a very enjoyable little comedy. A few unexpected touches are thrown in to keep the viewer's attention engaged - the way in which the principle cast is introduced as faces on a deck of cards; the introduction of a zany acrobat into the plot for no other reason than to enjoy a bit of lunacy; and the way in which a wide variety of different kinds of Americans are shown to be transfixed by listening to the broadcast of the concluding game.<br /><br />Paul Lukas & Loretta Young do very well as the Bridge Sweethearts - Lukas suave & sophisticated and Miss Young passionately loving and beautiful (even if the script keeps her puffing on a cigarette a bit too much). They are fun to watch, even when their behavior is not always the most believable or compelling.<br /><br />Frank McHugh gives another good performance as a relentlessly cheerful ghost writer who adores Miss Young. The delightful Glenda Farrell eschews her customary wisecracking persona in a small role as McHugh's ditsy gal pal. Roscoe Karns handles the fast-talking dialogue as a brash radio announcer. Diminutive Ferdinand Gottschalk is wonderful as a snobbish bridge expert.<br /><br />Movie mavens will recognize Dewey Robinson as a belligerent nightclub patron; Emma Dunn as a sob sister reporter; Paul Porcasi as the owner of the Russian nightclub; Charles Lane as a Russian waiter; and Jimmy Conlin as a kibitzer at the final bridge game - all uncredited.<br /><br />The film takes advantage of the fad for contract bridge which had swept across the country since its development in the 1920's. It expects the viewer to have a basic knowledge of the intricacies of the game and makes no attempt to explain anything to the uninformed.\n"
          ],
          "name": "stdout"
        }
      ]
    },
    {
      "cell_type": "code",
      "metadata": {
        "id": "Y-cb25Hl-u_E",
        "colab": {
          "base_uri": "https://localhost:8080/",
          "height": 179
        },
        "outputId": "9a3a9a6c-c482-4c79-b338-6cc5c1505868"
      },
      "source": [
        "# 학습 데이터 정리 (unsup가 필요가 없으므로 삭제)\n",
        "print('''학습을 위한 데이터는 이런 구조가 되어야 합니다.\n",
        "train/\n",
        "....pos/\n",
        "........file1.txt\n",
        "........file2.txt\n",
        "....neg/\n",
        "........file1.txt\n",
        "........file2.txt''')\n",
        "remove_dir = os.path.join(train_dir, 'unsup')\n",
        "print(f'불필요한 데이터 파일을 정리합니다. {remove_dir}')\n",
        "shutil.rmtree(remove_dir)\n"
      ],
      "execution_count": null,
      "outputs": [
        {
          "output_type": "stream",
          "text": [
            "학습을 위한 데이터는 이런 구조가 되어야 합니다.\n",
            "train/\n",
            "....pos/\n",
            "........file1.txt\n",
            "........file2.txt\n",
            "....neg/\n",
            "........file1.txt\n",
            "........file2.txt\n",
            "불필요한 데이터 파일을 정리합니다. ./aclImdb/train/unsup\n"
          ],
          "name": "stdout"
        }
      ]
    },
    {
      "cell_type": "code",
      "metadata": {
        "id": "jouWw8_pIpvq"
      },
      "source": [
        "import multiprocessing\n",
        "\n",
        "from tensorflow.python.data.ops import dataset_ops\n",
        "from tensorflow.python.ops import io_ops\n",
        "from tensorflow.python.ops import string_ops\n",
        "from tensorflow.python.util.tf_export import keras_export\n",
        "\n",
        "\n",
        "def index_directory(directory,\n",
        "                    labels,\n",
        "                    formats,\n",
        "                    class_names=None,\n",
        "                    shuffle=True,\n",
        "                    seed=None,\n",
        "                    follow_links=False):\n",
        "    inferred_class_names = []\n",
        "    for subdir in sorted(os.listdir(directory)):\n",
        "        if os.path.isdir(os.path.join(directory, subdir)):\n",
        "            inferred_class_names.append(subdir)\n",
        "    if not class_names:\n",
        "        class_names = inferred_class_names\n",
        "    else:\n",
        "        if set(class_names) != set(inferred_class_names):\n",
        "            raise ValueError(\n",
        "                    'The `class_names` passed did not match the '\n",
        "                    'names of the subdirectories of the target directory. '\n",
        "                    'Expected: %s, but received: %s' %\n",
        "                    (inferred_class_names, class_names))\n",
        "    class_indices = dict(zip(class_names, range(len(class_names))))\n",
        "\n",
        "    pool = multiprocessing.pool.ThreadPool()\n",
        "    results = []\n",
        "    filenames = []\n",
        "    for dirpath in (os.path.join(directory, subdir) for subdir in class_names):\n",
        "        results.append(\n",
        "            pool.apply_async(index_subdirectory,\n",
        "                             (dirpath, class_indices, follow_links, formats)))\n",
        "    labels_list = []\n",
        "    for res in results:\n",
        "        partial_filenames, partial_labels = res.get()\n",
        "        labels_list.append(partial_labels)\n",
        "        filenames += partial_filenames\n",
        "    if labels != 'inferred':\n",
        "        if len(labels) != len(filenames):\n",
        "            raise ValueError('Expected the lengths of `labels` to match the number '\n",
        "                             'of files in the target directory. len(labels) is %s '\n",
        "                             'while we found %s files in %s.' % (\n",
        "                                     len(labels), len(filenames), directory))\n",
        "    else:\n",
        "        i = 0\n",
        "        labels = np.zeros((len(filenames),), dtype='int32')\n",
        "        for partial_labels in labels_list:\n",
        "            labels[i:i + len(partial_labels)] = partial_labels\n",
        "            i += len(partial_labels)\n",
        "\n",
        "    print('Found %d files belonging to %d classes.' %\n",
        "          (len(filenames), len(class_names)))\n",
        "    pool.close()\n",
        "    pool.join()\n",
        "    file_paths = [os.path.join(directory, fname) for fname in filenames]\n",
        "\n",
        "    if shuffle:\n",
        "        if seed is None:\n",
        "            seed = np.random.randint(1e6)\n",
        "        rng = np.random.RandomState(seed)\n",
        "        rng.shuffle(file_paths)\n",
        "        rng = np.random.RandomState(seed)\n",
        "        rng.shuffle(labels)\n",
        "    return file_paths, labels, class_names\n",
        "\n",
        "\n",
        "def iter_valid_files(directory, follow_links, formats):\n",
        "    walk = os.walk(directory, followlinks=follow_links)\n",
        "    for root, _, files in sorted(walk, key=lambda x: x[0]):\n",
        "        for fname in sorted(files):\n",
        "            if fname.lower().endswith(formats):\n",
        "                yield root, fname\n",
        "        \n",
        "\n",
        "def index_subdirectory(directory, class_indices, follow_links, formats):\n",
        "    dirname = os.path.basename(directory)\n",
        "    valid_files = iter_valid_files(directory, follow_links, formats)\n",
        "    labels = []\n",
        "    filenames = []\n",
        "    for root, fname in valid_files:\n",
        "        labels.append(class_indices[dirname])\n",
        "        absolute_path = os.path.join(root, fname)\n",
        "        relative_path = os.path.join(\n",
        "                dirname, os.path.relpath(absolute_path, directory))\n",
        "        filenames.append(relative_path)\n",
        "    return filenames, labels\n",
        "        \n",
        "\n",
        "def check_validation_split_arg(validation_split, subset, shuffle, seed):\n",
        "    if validation_split and not 0 < validation_split < 1:\n",
        "        raise ValueError(\n",
        "                '`validation_split` must be between 0 and 1, received: %s' %\n",
        "                (validation_split,))\n",
        "    if (validation_split or subset) and not (validation_split and subset):\n",
        "        raise ValueError(\n",
        "                'If `subset` is set, `validation_split` must be set, and inversely.')\n",
        "    if subset not in ('training', 'validation', None):\n",
        "        raise ValueError('`subset` must be either \"training\" '\n",
        "                         'or \"validation\", received: %s' % (subset,))\n",
        "    if validation_split and shuffle and seed is None:\n",
        "        raise ValueError(\n",
        "                'If using `validation_split` and shuffling the data, you must provide '\n",
        "                'a `seed` argument, to make sure that there is no overlap between the '\n",
        "                'training and validation subset.')\n",
        "\n",
        "\n",
        "def get_training_or_validation_split(samples, labels, validation_split, subset):\n",
        "    if not validation_split:\n",
        "        return samples, labels\n",
        "\n",
        "    num_val_samples = int(validation_split * len(samples))\n",
        "    if subset == 'training':\n",
        "        print('Using %d files for training.' % (len(samples) - num_val_samples,))\n",
        "        samples = samples[:-num_val_samples]\n",
        "        labels = labels[:-num_val_samples]\n",
        "    elif subset == 'validation':\n",
        "        print('Using %d files for validation.' % (num_val_samples,))\n",
        "        samples = samples[-num_val_samples:]\n",
        "        labels = labels[-num_val_samples:]\n",
        "    else:\n",
        "        raise ValueError('`subset` must be either \"training\" '\n",
        "                         'or \"validation\", received: %s' % (subset,))\n",
        "    return samples, labels\n",
        "\n",
        "\n",
        "def labels_to_dataset(labels, label_mode, num_classes):\n",
        "    label_ds = dataset_ops.Dataset.from_tensor_slices(labels)\n",
        "    if label_mode == 'binary':\n",
        "        label_ds = label_ds.map(\n",
        "                lambda x: array_ops.expand_dims(math_ops.cast(x, 'float32'), axis=-1))\n",
        "    elif label_mode == 'categorical':\n",
        "        label_ds = label_ds.map(lambda x: array_ops.one_hot(x, num_classes))\n",
        "    return label_ds\n",
        "\n",
        "\n",
        "def paths_and_labels_to_dataset(file_paths,\n",
        "                                labels,\n",
        "                                label_mode,\n",
        "                                num_classes,\n",
        "                                max_length):\n",
        "    path_ds = dataset_ops.Dataset.from_tensor_slices(file_paths)\n",
        "    string_ds = path_ds.map(\n",
        "        lambda x: path_to_string_content(x, max_length))\n",
        "    if label_mode:\n",
        "        label_ds = labels_to_dataset(labels, label_mode, num_classes)\n",
        "        string_ds = dataset_ops.Dataset.zip((string_ds, label_ds))\n",
        "    return string_ds\n",
        "\n",
        "\n",
        "def path_to_string_content(path, max_length):\n",
        "    txt = io_ops.read_file(path)\n",
        "    if max_length is not None:\n",
        "        txt = string_ops.substr(txt, 0, max_length)\n",
        "    return txt\n",
        "\n",
        "# 이 함수로 directory에서 text_dataset을 불러옴\n",
        "def text_dataset_from_directory(directory,\n",
        "                                labels='inferred',\n",
        "                                label_mode='int',\n",
        "                                class_names=None,\n",
        "                                batch_size=32,\n",
        "                                max_length=None,\n",
        "                                shuffle=True,\n",
        "                                seed=None,\n",
        "                                validation_split=None,\n",
        "                                subset=None,\n",
        "                                follow_links=False):\n",
        "    if labels != 'inferred':\n",
        "        if not isinstance(labels, (list, tuple)):\n",
        "            raise ValueError(\n",
        "                    '`labels` argument should be a list/tuple of integer labels, of '\n",
        "                    'the same size as the number of text files in the target '\n",
        "                    'directory. If you wish to infer the labels from the subdirectory '\n",
        "                    'names in the target directory, pass `labels=\"inferred\"`. '\n",
        "                    'If you wish to get a dataset that only contains text samples '\n",
        "                    '(no labels), pass `labels=None`.')\n",
        "        if class_names:\n",
        "            raise ValueError('You can only pass `class_names` if the labels are '\n",
        "                             'inferred from the subdirectory names in the target '\n",
        "                             'directory (`labels=\"inferred\"`).')\n",
        "    if label_mode not in {'int', 'categorical', 'binary', None}:\n",
        "        raise ValueError(\n",
        "                '`label_mode` argument must be one of \"int\", \"categorical\", \"binary\", '\n",
        "                'or None. Received: %s' % (label_mode,))\n",
        "    if seed is None:\n",
        "        seed = np.random.randint(1e6)\n",
        "    check_validation_split_arg(\n",
        "        validation_split, subset, shuffle, seed)\n",
        "    \n",
        "    file_paths, labels, class_names = index_directory(\n",
        "            directory,\n",
        "            labels,\n",
        "            formats=('.txt',),\n",
        "            class_names=class_names,\n",
        "            shuffle=shuffle,\n",
        "            seed=seed,\n",
        "            follow_links=follow_links)\n",
        "\n",
        "    if label_mode == 'binary' and len(class_names) != 2:\n",
        "        raise ValueError(\n",
        "                'When passing `label_mode=\"binary\", there must exactly 2 classes. '\n",
        "                'Found the following classes: %s' % (class_names,))\n",
        "\n",
        "    file_paths, labels = get_training_or_validation_split(\n",
        "        file_paths, labels, validation_split, subset)\n",
        "\n",
        "    dataset = paths_and_labels_to_dataset(\n",
        "        file_paths=file_paths,\n",
        "        labels=labels,\n",
        "        label_mode=label_mode,\n",
        "        num_classes=len(class_names),\n",
        "        max_length=max_length)\n",
        "    if shuffle:\n",
        "        dataset = dataset.shuffle(buffer_size=batch_size * 8, seed=seed)\n",
        "    dataset = dataset.batch(batch_size)\n",
        "    dataset.class_names = class_names\n",
        "    return dataset"
      ],
      "execution_count": null,
      "outputs": []
    },
    {
      "cell_type": "code",
      "metadata": {
        "id": "oNZ0ir_Q_Jsl",
        "colab": {
          "base_uri": "https://localhost:8080/",
          "height": 71
        },
        "outputId": "7adad38e-2c56-4caf-96b2-0ba34f25ff6a"
      },
      "source": [
        "# 학습 데이터 불러오기 (2.4.X에서는 text_dataset_from_directory 사용 가능(2.2.X는 사용 불가하므로 위에 코드 사용해야 됨))\n",
        "batch_size = 32\n",
        "validation_split = 0.2\n",
        "seed = 20200721 # 원하는 숫자 넣어도 상관없음\n",
        "\n",
        "print('학습 데이터 세트를 불러옵니다.')\n",
        "raw_train_ds = text_dataset_from_directory(\n",
        "        train_dir, \n",
        "        batch_size=batch_size, \n",
        "        validation_split=validation_split, \n",
        "        subset='training',  # training 학습용 데이터 세트\n",
        "        seed=seed)"
      ],
      "execution_count": null,
      "outputs": [
        {
          "output_type": "stream",
          "text": [
            "학습 데이터 세트를 불러옵니다.\n",
            "Found 25000 files belonging to 2 classes.\n",
            "Using 20000 files for training.\n"
          ],
          "name": "stdout"
        }
      ]
    },
    {
      "cell_type": "code",
      "metadata": {
        "id": "GlT8_tMG_Jvj",
        "colab": {
          "base_uri": "https://localhost:8080/",
          "height": 253
        },
        "outputId": "12c08200-5218-4534-c1b9-b214568ade7f"
      },
      "source": [
        "# 학습 데이터 확인\n",
        "for text_batch, label_batch in raw_train_ds.take(1):\n",
        "    for i in range(3):\n",
        "        print(\"Review\", text_batch.numpy()[i])\n",
        "        print(\"Label\", label_batch.numpy()[i])\n",
        "\n",
        "\n",
        "print('레이블 번호 - 이름 확인!')\n",
        "print(\"Label 0 corresponds to\", raw_train_ds.class_names[0])\n",
        "print(\"Label 1 corresponds to\", raw_train_ds.class_names[1])\n",
        "\n",
        "\n",
        "print('검증 데이터 세트를 불러옵니다.')\n",
        "raw_val_ds = text_dataset_from_directory(\n",
        "        train_dir, \n",
        "        batch_size=batch_size, \n",
        "        validation_split=validation_split, \n",
        "        subset='validation', \n",
        "        seed=seed)"
      ],
      "execution_count": null,
      "outputs": [
        {
          "output_type": "stream",
          "text": [
            "Review b\"This film was a yawn from titles to credits, it's boring to the point of tedium and the acting is wooden and stilted! Admittedly this was director Richard Jobson directing debut, but who on earth green-lit a script as poorly developed as this one? Looks like another money down the drain government project (Scottish Screen are credited surprise, surprise). I nearly fell asleep three times and my review will unfortunately have to be more restrained than this one. Please, please mister Jobson what ever you've been doing prior to directing this sedative of a film, go back to it!\"\n",
            "Label 0\n",
            "Review b'I have given this show (I have only watched seven episodes) four stars because most of her jokes/set-ups appear to fail. Some are not funny outright, but some are amusing -- in a 12 year old boy kind of way. She reminds me of that New York painter who throws paint upon a canvas, calls it art and sells it for a lot of money. Silverman throws out what she\\'s got, including the kitchen sink, while she prays that a few things stick to the wall in her effort to be funny but different.<br /><br />However what she\\'s \"got\" often times is not enough, as though she lacks the kind of follow-through a good comedian needs to succeed.<br /><br />The whole enterprise is like an under done potato.'\n",
            "Label 0\n",
            "Review b\"sammo has to have a 10 out of 10 for this movie as it has everything. great story, great fights, great characters and great cameos.<br /><br />this film sees dick wei take on billy chow and chong fat. sammo takes on lau kar leung in a casino, sammo loses the fight but what a fight it is full of high tempo action and elements of comedy thrown in.<br /><br />some great and touching moments in the film, lam ching ying pops up in a cameo and gets killed off - gutted.<br /><br />the end sequence will have you reaching for the rewind button, as its one of the best end fights I've seen. sammo takes on loads of guys and ends up squaring up to billy chow.\"\n",
            "Label 1\n",
            "레이블 번호 - 이름 확인!\n",
            "Label 0 corresponds to neg\n",
            "Label 1 corresponds to pos\n",
            "검증 데이터 세트를 불러옵니다.\n",
            "Found 25000 files belonging to 2 classes.\n",
            "Using 5000 files for validation.\n"
          ],
          "name": "stdout"
        }
      ]
    },
    {
      "cell_type": "code",
      "metadata": {
        "id": "o7T4FU_5_Jx7"
      },
      "source": [
        "# 불필요한 데이터 제거 (안지우면 문제 생김)\n",
        "def custom_standardization(input_data):\n",
        "    lowercase = tf.strings.lower(input_data)\n",
        "    stripped_html = tf.strings.regex_replace(lowercase, '<br />', ' ')\n",
        "    return tf.strings.regex_replace(stripped_html,\n",
        "                                    '[%s]' % re.escape(string.punctuation),\n",
        "                                    '')"
      ],
      "execution_count": null,
      "outputs": []
    },
    {
      "cell_type": "code",
      "metadata": {
        "id": "epcZVv9h_J0k"
      },
      "source": [
        "# Vectorization (단어 하나하나에 번호를 붙일거임)\n",
        "max_features = 100000 # N개의 단어를 볼거임\n",
        "sequence_length = 5000\n",
        "# 문저열을 숫자로 바꿈 (백터화)\n",
        "vectorize_layer = tf.keras.layers.experimental.preprocessing.TextVectorization(\n",
        "        standardize=custom_standardization,\n",
        "        max_tokens=max_features,\n",
        "        output_mode='int',\n",
        "        output_sequence_length=sequence_length)"
      ],
      "execution_count": null,
      "outputs": []
    },
    {
      "cell_type": "code",
      "metadata": {
        "id": "PmPnXTpn_J3P",
        "colab": {
          "base_uri": "https://localhost:8080/",
          "height": 71
        },
        "outputId": "914a0d96-14e7-4744-ff6d-b93a31a91d78"
      },
      "source": [
        "# Vectorization 레이어 계산\n",
        "print('테스트 데이터와 레이블을 분리합니다.')\n",
        "train_text = raw_train_ds.map(lambda x, y: x)\n",
        "vectorize_layer.adapt(train_text)\n",
        "\n",
        "print('학습 완료 후 사용할 테스트 세트를 불러옵니다.')\n",
        "test_dir = os.path.join(dataset_dir, 'test')\n",
        "raw_test_ds = text_dataset_from_directory(\n",
        "        test_dir, \n",
        "        batch_size=batch_size)"
      ],
      "execution_count": null,
      "outputs": [
        {
          "output_type": "stream",
          "text": [
            "테스트 데이터와 레이블을 분리합니다.\n",
            "학습 완료 후 사용할 테스트 세트를 불러옵니다.\n",
            "Found 25000 files belonging to 2 classes.\n"
          ],
          "name": "stdout"
        }
      ]
    },
    {
      "cell_type": "code",
      "metadata": {
        "id": "hXsqoAjW_d4b",
        "colab": {
          "base_uri": "https://localhost:8080/",
          "height": 109
        },
        "outputId": "996512f0-5ed8-432f-cfce-6de46e8e67e9"
      },
      "source": [
        "# 전처리된 데이터 확인\n",
        "def vectorize_text(text, label):\n",
        "    text = tf.expand_dims(text, -1)\n",
        "    return vectorize_layer(text), label\n",
        "\n",
        "print('테스트 데이터를 확인합니다.')\n",
        "text_batch, label_batch = next(iter(raw_train_ds))\n",
        "first_review, first_label = text_batch[0], label_batch[0]\n",
        "print(\"Review\", first_review)                                    #  0번 리뷰\n",
        "print(\"Label\", raw_train_ds.class_names[first_label])\n",
        "print(\"Vectorized review\", vectorize_text(tf.expand_dims(first_review, -1), first_label))  # 50단어만 숫자로 바꿔서 볼거임"
      ],
      "execution_count": null,
      "outputs": [
        {
          "output_type": "stream",
          "text": [
            "테스트 데이터를 확인합니다.\n",
            "Review tf.Tensor(b\"The film is worth watching only if you stop it after half an hour. It starts of with funny conversations in a bar and makes one expect a good, funny story is to come. Well, I can tell you it will not come. It will deteriorate in minutes into a movie that challenges your patience as well as your feelings of shame for the actors to an extend you will probably not be pleased to witness. <br /><br />In an interview I heard that the director wanted to express in this film the feeling of a loss of identity that, according to him, the majority of the people in this globalizing world experience. I was amazed to hear that. Am I living in the same world he lives in? OK a lot of people do walk around in the same clothes as mine and listen to the same music and all, but that doesn't make me feel like I am losing my identity. What does Khrzhanosvky think, that we are not more than the clothes we wear and the movies we watch? Am I shortsighted or is he?<br /><br />Well my vote: the good start of the movie saves it from getting a 1, a decent 4 is my conclusion.\", shape=(), dtype=string)\n",
            "Label neg\n",
            "Vectorized review (<tf.Tensor: shape=(1, 5000), dtype=int64, numpy=array([[ 2, 19,  7, ...,  0,  0,  0]])>, <tf.Tensor: shape=(), dtype=int32, numpy=0>)\n"
          ],
          "name": "stdout"
        }
      ]
    },
    {
      "cell_type": "code",
      "metadata": {
        "id": "V12a3mm4_d6y",
        "colab": {
          "base_uri": "https://localhost:8080/",
          "height": 233
        },
        "outputId": "7a3f203d-008c-48b2-e975-39d31485ea2e"
      },
      "source": [
        "# 특징 벡터 생성을 위한 단어집 확인\n",
        "print('각 특징 벡터의 원소 값을 확인할 수 있습니다.')\n",
        "voc_size = len(vectorize_layer.get_vocabulary())\n",
        "print(f'Vocabulary size: {voc_size}')\n",
        "base = 0\n",
        "cnt = 10\n",
        "if voc_size - cnt < base:\n",
        "    print(f'{voc_size-cnt} 보다는 작은 수를 입력해야 합니다.') \n",
        "else:\n",
        "    for i in range(base, base+cnt):\n",
        "        print(f'{i+2:4d} ---> {vectorize_layer.get_vocabulary()[i].decode(\"utf-8\")}') # 0은 THE 가 아니니까 2를 더함\n",
        "# 0 --> 빈 단어\n",
        "# 1 --> 모르는 단어 (EX 한국어)\n",
        "#"
      ],
      "execution_count": null,
      "outputs": [
        {
          "output_type": "stream",
          "text": [
            "각 특징 벡터의 원소 값을 확인할 수 있습니다.\n",
            "Vocabulary size: 99496\n",
            "   2 ---> the\n",
            "   3 ---> and\n",
            "   4 ---> a\n",
            "   5 ---> of\n",
            "   6 ---> to\n",
            "   7 ---> is\n",
            "   8 ---> in\n",
            "   9 ---> it\n",
            "  10 ---> i\n",
            "  11 ---> this\n"
          ],
          "name": "stdout"
        }
      ]
    },
    {
      "cell_type": "code",
      "metadata": {
        "id": "ZIpLhMp6_d9e",
        "colab": {
          "base_uri": "https://localhost:8080/",
          "height": 53
        },
        "outputId": "de2acc6a-77a3-4796-a0b6-de7a41574aab"
      },
      "source": [
        "# 데이터셋 벡터화\n",
        "print('학습, 검증, 테스트 데이터를 모두 벡터화 합니다.')\n",
        "train_ds = raw_train_ds.map(vectorize_text)\n",
        "val_ds = raw_val_ds.map(vectorize_text)\n",
        "test_ds = raw_test_ds.map(vectorize_text)\n",
        "\n",
        "# prefetch 데이터 학습을 조금더 빨리 하게 해주는 코드\n",
        "AUTOTUNE = tf.data.experimental.AUTOTUNE\n",
        "print('데이터 입력부를 최적화합니다.')\n",
        "train_ds = train_ds.cache().prefetch(buffer_size=AUTOTUNE)\n",
        "val_ds = val_ds.cache().prefetch(buffer_size=AUTOTUNE)\n",
        "test_ds = test_ds.cache().prefetch(buffer_size=AUTOTUNE)"
      ],
      "execution_count": null,
      "outputs": [
        {
          "output_type": "stream",
          "text": [
            "학습, 검증, 테스트 데이터를 모두 벡터화 합니다.\n",
            "데이터 입력부를 최적화합니다.\n"
          ],
          "name": "stdout"
        }
      ]
    },
    {
      "cell_type": "code",
      "metadata": {
        "id": "_DHB6iy5OYs6"
      },
      "source": [
        "# One-hot vector 하나만 1임 나머지 0 근데 너무 0이 많아서 공간 손실이 많이 남 \n",
        "# Encoding 그래서 이걸 씀 근데 이것도 비슷한것 끼리 묶여있지 않음 \n",
        "# Word2Vec를 가장 많이 씀 알아서 계산하게 함"
      ],
      "execution_count": null,
      "outputs": []
    },
    {
      "cell_type": "code",
      "metadata": {
        "id": "YhuezVyN_d_8",
        "colab": {
          "base_uri": "https://localhost:8080/",
          "height": 377
        },
        "outputId": "6f4312f0-5c5a-4160-ebbb-e694f3f68593"
      },
      "source": [
        "# 모델 정의 및 Word2Vec\n",
        "embedding_dim = 4 # N개의 단어를 N차원으로 바꿈\n",
        "\n",
        "print('모델을 정의합니다.')\n",
        "model = tf.keras.Sequential([\n",
        "    tf.keras.layers.Embedding(max_features+1, embedding_dim, mask_zero=True),\n",
        "    tf.keras.layers.Dropout(0.2), # 0.2 이하는 지움\n",
        "    tf.keras.layers.GlobalAveragePooling1D(), # 평균을 냄\n",
        "    tf.keras.layers.Dropout(0.2),  #0.2 이하는 지움\n",
        "    tf.keras.layers.Dense(1)]) # 4개를 1개로 합친다\n",
        "\n",
        "model.summary()\n",
        "\n",
        "# Binary는 이진분류 할 때 씀\n",
        "print('모델을 준비합니다.')\n",
        "model.compile(loss=tf.keras.losses.BinaryCrossentropy(from_logits=True), \n",
        "              optimizer='adam', \n",
        "              metrics=tf.metrics.BinaryAccuracy(threshold=0.0))"
      ],
      "execution_count": null,
      "outputs": [
        {
          "output_type": "stream",
          "text": [
            "모델을 정의합니다.\n",
            "Model: \"sequential\"\n",
            "_________________________________________________________________\n",
            "Layer (type)                 Output Shape              Param #   \n",
            "=================================================================\n",
            "embedding (Embedding)        (None, None, 4)           400004    \n",
            "_________________________________________________________________\n",
            "dropout (Dropout)            (None, None, 4)           0         \n",
            "_________________________________________________________________\n",
            "global_average_pooling1d (Gl (None, 4)                 0         \n",
            "_________________________________________________________________\n",
            "dropout_1 (Dropout)          (None, 4)                 0         \n",
            "_________________________________________________________________\n",
            "dense (Dense)                (None, 1)                 5         \n",
            "=================================================================\n",
            "Total params: 400,009\n",
            "Trainable params: 400,009\n",
            "Non-trainable params: 0\n",
            "_________________________________________________________________\n",
            "모델을 준비합니다.\n"
          ],
          "name": "stdout"
        }
      ]
    },
    {
      "cell_type": "code",
      "metadata": {
        "id": "6QRU-wve_eCO",
        "colab": {
          "base_uri": "https://localhost:8080/",
          "height": 377
        },
        "outputId": "2f199d81-2788-4ce0-f165-c41fe86386a1"
      },
      "source": [
        "# 학습 시작! (Over fitting! 떄문에 학습하다가 더이상 올라가지 않음)\n",
        "epochs = 10\n",
        "history = model.fit(\n",
        "        train_ds,\n",
        "        validation_data=val_ds, # 학습 검증\n",
        "        epochs=epochs)"
      ],
      "execution_count": null,
      "outputs": [
        {
          "output_type": "stream",
          "text": [
            "Epoch 1/10\n",
            "625/625 [==============================] - 16s 26ms/step - loss: 0.5446 - binary_accuracy: 0.8270 - val_loss: 0.5134 - val_binary_accuracy: 0.8270\n",
            "Epoch 2/10\n",
            "625/625 [==============================] - 17s 27ms/step - loss: 0.4688 - binary_accuracy: 0.8522 - val_loss: 0.4516 - val_binary_accuracy: 0.8424\n",
            "Epoch 3/10\n",
            "625/625 [==============================] - 17s 27ms/step - loss: 0.4116 - binary_accuracy: 0.8722 - val_loss: 0.4061 - val_binary_accuracy: 0.8564\n",
            "Epoch 4/10\n",
            "625/625 [==============================] - 17s 27ms/step - loss: 0.3670 - binary_accuracy: 0.8837 - val_loss: 0.3726 - val_binary_accuracy: 0.8638\n",
            "Epoch 5/10\n",
            "625/625 [==============================] - 16s 26ms/step - loss: 0.3319 - binary_accuracy: 0.8962 - val_loss: 0.3472 - val_binary_accuracy: 0.8714\n",
            "Epoch 6/10\n",
            "625/625 [==============================] - 17s 28ms/step - loss: 0.3051 - binary_accuracy: 0.9047 - val_loss: 0.3276 - val_binary_accuracy: 0.8744\n",
            "Epoch 7/10\n",
            "625/625 [==============================] - 17s 28ms/step - loss: 0.2812 - binary_accuracy: 0.9117 - val_loss: 0.3119 - val_binary_accuracy: 0.8784\n",
            "Epoch 8/10\n",
            "625/625 [==============================] - 16s 26ms/step - loss: 0.2606 - binary_accuracy: 0.9184 - val_loss: 0.2993 - val_binary_accuracy: 0.8816\n",
            "Epoch 9/10\n",
            "625/625 [==============================] - 17s 27ms/step - loss: 0.2441 - binary_accuracy: 0.9230 - val_loss: 0.2891 - val_binary_accuracy: 0.8834\n",
            "Epoch 10/10\n",
            "625/625 [==============================] - 17s 27ms/step - loss: 0.2267 - binary_accuracy: 0.9287 - val_loss: 0.2806 - val_binary_accuracy: 0.8880\n"
          ],
          "name": "stdout"
        }
      ]
    },
    {
      "cell_type": "code",
      "metadata": {
        "id": "J5aAWS6E_tD9",
        "colab": {
          "base_uri": "https://localhost:8080/",
          "height": 89
        },
        "outputId": "8e847c2c-f976-423d-b8d2-4a80f58d8869"
      },
      "source": [
        "# 모델 성능 테스트 시작!\n",
        "print('모델 성능을 테스트합니다.')\n",
        "loss, accuracy = model.evaluate(test_ds) # 테스트 셋\n",
        "\n",
        "print(\"Loss: \", loss)\n",
        "print(\"Accuracy: \", accuracy)"
      ],
      "execution_count": null,
      "outputs": [
        {
          "output_type": "stream",
          "text": [
            "모델 성능을 테스트합니다.\n",
            "782/782 [==============================] - 14s 17ms/step - loss: 0.2955 - binary_accuracy: 0.8822\n",
            "Loss:  0.2954935133457184\n",
            "Accuracy:  0.8822399973869324\n"
          ],
          "name": "stdout"
        }
      ]
    },
    {
      "cell_type": "code",
      "metadata": {
        "id": "ytc-jUxs_tGf",
        "colab": {
          "base_uri": "https://localhost:8080/",
          "height": 1000
        },
        "outputId": "034e8da7-6fa4-4257-b95f-b0c58de0fb4c"
      },
      "source": [
        "# 시각화!\n",
        "history_dict = history.history\n",
        "acc = history_dict['binary_accuracy']\n",
        "val_acc = history_dict['val_binary_accuracy']\n",
        "loss = history_dict['loss']\n",
        "val_loss = history_dict['val_loss']\n",
        "\n",
        "epochs = range(1, len(acc) + 1)\n",
        "\n",
        "fig1 = plt.figure(figsize=(6, 10))\n",
        "ax = fig1.add_subplot(2, 1, 1)\n",
        "ax.plot(epochs, loss, 'bo', label='학습 손실')\n",
        "ax.plot(epochs, val_loss, 'b', label='검증 손실')\n",
        "ax.set_title('학습 및 검증 손실', fontsize=12)\n",
        "ax.set_xlabel('Epochs', fontsize=10)\n",
        "ax.set_ylabel('손실', fontsize=10)\n",
        "ax.legend(prop=nanum_prop)\n",
        "\n",
        "ax = fig1.add_subplot(2, 1, 2)\n",
        "ax.plot(epochs, acc, 'bo', label='학습 정확도')\n",
        "ax.plot(epochs, val_acc, 'b', label='검증 정확도')\n",
        "ax.set_title('학습 및 검증 정확도', fontsize=12)\n",
        "ax.set_xlabel('Epochs', fontsize=10)\n",
        "ax.set_ylabel('정확도', fontsize=10)\n",
        "ax.legend(prop=nanum_prop)"
      ],
      "execution_count": null,
      "outputs": [
        {
          "output_type": "execute_result",
          "data": {
            "text/plain": [
              "<matplotlib.legend.Legend at 0x7fc884388be0>"
            ]
          },
          "metadata": {
            "tags": []
          },
          "execution_count": 27
        },
        {
          "output_type": "stream",
          "text": [
            "/usr/local/lib/python3.6/dist-packages/matplotlib/backends/backend_agg.py:214: RuntimeWarning: Glyph 54617 missing from current font.\n",
            "  font.set_text(s, 0.0, flags=flags)\n",
            "/usr/local/lib/python3.6/dist-packages/matplotlib/backends/backend_agg.py:214: RuntimeWarning: Glyph 49845 missing from current font.\n",
            "  font.set_text(s, 0.0, flags=flags)\n",
            "/usr/local/lib/python3.6/dist-packages/matplotlib/backends/backend_agg.py:214: RuntimeWarning: Glyph 48143 missing from current font.\n",
            "  font.set_text(s, 0.0, flags=flags)\n",
            "/usr/local/lib/python3.6/dist-packages/matplotlib/backends/backend_agg.py:214: RuntimeWarning: Glyph 44160 missing from current font.\n",
            "  font.set_text(s, 0.0, flags=flags)\n",
            "/usr/local/lib/python3.6/dist-packages/matplotlib/backends/backend_agg.py:214: RuntimeWarning: Glyph 51613 missing from current font.\n",
            "  font.set_text(s, 0.0, flags=flags)\n",
            "/usr/local/lib/python3.6/dist-packages/matplotlib/backends/backend_agg.py:214: RuntimeWarning: Glyph 49552 missing from current font.\n",
            "  font.set_text(s, 0.0, flags=flags)\n",
            "/usr/local/lib/python3.6/dist-packages/matplotlib/backends/backend_agg.py:214: RuntimeWarning: Glyph 49892 missing from current font.\n",
            "  font.set_text(s, 0.0, flags=flags)\n",
            "/usr/local/lib/python3.6/dist-packages/matplotlib/backends/backend_agg.py:183: RuntimeWarning: Glyph 49552 missing from current font.\n",
            "  font.set_text(s, 0, flags=flags)\n",
            "/usr/local/lib/python3.6/dist-packages/matplotlib/backends/backend_agg.py:183: RuntimeWarning: Glyph 49892 missing from current font.\n",
            "  font.set_text(s, 0, flags=flags)\n",
            "/usr/local/lib/python3.6/dist-packages/matplotlib/backends/backend_agg.py:183: RuntimeWarning: Glyph 54617 missing from current font.\n",
            "  font.set_text(s, 0, flags=flags)\n",
            "/usr/local/lib/python3.6/dist-packages/matplotlib/backends/backend_agg.py:183: RuntimeWarning: Glyph 49845 missing from current font.\n",
            "  font.set_text(s, 0, flags=flags)\n",
            "/usr/local/lib/python3.6/dist-packages/matplotlib/backends/backend_agg.py:183: RuntimeWarning: Glyph 48143 missing from current font.\n",
            "  font.set_text(s, 0, flags=flags)\n",
            "/usr/local/lib/python3.6/dist-packages/matplotlib/backends/backend_agg.py:183: RuntimeWarning: Glyph 44160 missing from current font.\n",
            "  font.set_text(s, 0, flags=flags)\n",
            "/usr/local/lib/python3.6/dist-packages/matplotlib/backends/backend_agg.py:183: RuntimeWarning: Glyph 51613 missing from current font.\n",
            "  font.set_text(s, 0, flags=flags)\n",
            "/usr/local/lib/python3.6/dist-packages/matplotlib/backends/backend_agg.py:214: RuntimeWarning: Glyph 51221 missing from current font.\n",
            "  font.set_text(s, 0.0, flags=flags)\n",
            "/usr/local/lib/python3.6/dist-packages/matplotlib/backends/backend_agg.py:214: RuntimeWarning: Glyph 54869 missing from current font.\n",
            "  font.set_text(s, 0.0, flags=flags)\n",
            "/usr/local/lib/python3.6/dist-packages/matplotlib/backends/backend_agg.py:214: RuntimeWarning: Glyph 46020 missing from current font.\n",
            "  font.set_text(s, 0.0, flags=flags)\n",
            "/usr/local/lib/python3.6/dist-packages/matplotlib/backends/backend_agg.py:183: RuntimeWarning: Glyph 51221 missing from current font.\n",
            "  font.set_text(s, 0, flags=flags)\n",
            "/usr/local/lib/python3.6/dist-packages/matplotlib/backends/backend_agg.py:183: RuntimeWarning: Glyph 54869 missing from current font.\n",
            "  font.set_text(s, 0, flags=flags)\n",
            "/usr/local/lib/python3.6/dist-packages/matplotlib/backends/backend_agg.py:183: RuntimeWarning: Glyph 46020 missing from current font.\n",
            "  font.set_text(s, 0, flags=flags)\n"
          ],
          "name": "stderr"
        },
        {
          "output_type": "display_data",
          "data": {
            "image/png": "[encoded data removed]",
            "text/plain": [
              "<Figure size 432x720 with 2 Axes>"
            ]
          },
          "metadata": {
            "tags": [],
            "needs_background": "light"
          }
        }
      ]
    },
    {
      "cell_type": "code",
      "metadata": {
        "id": "ceJ9wE2pT5mT",
        "colab": {
          "base_uri": "https://localhost:8080/",
          "height": 639
        },
        "outputId": "e1b2d611-1f32-40ac-b710-a11437983fd3"
      },
      "source": [
        "# 한글폰트 안될 때\n",
        "history_dict = history.history\n",
        "acc = history_dict['binary_accuracy']\n",
        "val_acc = history_dict['val_binary_accuracy']\n",
        "loss = history_dict['loss']\n",
        "val_loss = history_dict['val_loss']\n",
        "\n",
        "epochs = range(1, len(acc) + 1)\n",
        "\n",
        "fig1 = plt.figure(figsize=(6, 10))\n",
        "ax = fig1.add_subplot(2, 1, 1)\n",
        "ax.plot(epochs, loss, 'bo', label='Train loss')\n",
        "ax.plot(epochs, val_loss, 'b', label='Val loss')\n",
        "#ax.set_ylim((0, 1))\n",
        "ax.set_title('Train and val loss', fontsize=12)\n",
        "ax.set_xlabel('Epochs', fontsize=10)\n",
        "ax.set_ylabel('loss', fontsize=10)\n",
        "ax.legend(prop=nanum_prop)\n",
        "\n",
        "ax = fig1.add_subplot(2, 1, 2)\n",
        "ax.plot(epochs, acc, 'bo', label='Train accuracy')\n",
        "ax.plot(epochs, val_acc, 'b', label='Val accuracy')\n",
        "#ax.set_ylim((0, 1))\n",
        "ax.set_title('Train and val accuracy', fontsize=12)\n",
        "ax.set_xlabel('Epochs', fontsize=10)\n",
        "ax.set_ylabel('Accuracy', fontsize=10)\n",
        "ax.legend(prop=nanum_prop)"
      ],
      "execution_count": null,
      "outputs": [
        {
          "output_type": "execute_result",
          "data": {
            "text/plain": [
              "<matplotlib.legend.Legend at 0x7fc885232da0>"
            ]
          },
          "metadata": {
            "tags": []
          },
          "execution_count": 28
        },
        {
          "output_type": "display_data",
          "data": {
            "image/png": "[encoded data removed]",
            "text/plain": [
              "<Figure size 432x720 with 2 Axes>"
            ]
          },
          "metadata": {
            "tags": [],
            "needs_background": "light"
          }
        }
      ]
    },
    {
      "cell_type": "code",
      "metadata": {
        "id": "XNEiaH-v_y-c",
        "colab": {
          "base_uri": "https://localhost:8080/",
          "height": 71
        },
        "outputId": "b3db616c-7841-4865-db93-b862df6ce016"
      },
      "source": [
        "# 출력 모델\n",
        "print('모델 출력')\n",
        "export_model = tf.keras.Sequential([\n",
        "    vectorize_layer, # 문자열을 숫자열로 바꾸어 줌\n",
        "    model,\n",
        "    tf.keras.layers.Activation('sigmoid') # 어떤수가 들어가도 0~1 사이로 고정\n",
        "])\n",
        "\n",
        "export_model.compile(\n",
        "    loss=tf.keras.losses.BinaryCrossentropy(from_logits=False), optimizer=\"adam\", metrics=['accuracy']\n",
        ")\n",
        "\n",
        "loss, accuracy = export_model.evaluate(raw_test_ds)\n",
        "print(accuracy)"
      ],
      "execution_count": null,
      "outputs": [
        {
          "output_type": "stream",
          "text": [
            "모델 출력\n",
            "782/782 [==============================] - 13s 17ms/step - loss: 0.2955 - accuracy: 0.8822\n",
            "0.8822399973869324\n"
          ],
          "name": "stdout"
        }
      ]
    },
    {
      "cell_type": "code",
      "metadata": {
        "id": "Px4jqkJj_zym",
        "colab": {
          "base_uri": "https://localhost:8080/",
          "height": 73
        },
        "outputId": "8dff7a68-0398-4c66-bc46-224309443f04"
      },
      "source": [
        "# 임의의 데이터로 가지고 놀기! # 악플이나 선플 분류\n",
        "user_str = input('테스트 입력: ').strip()\n",
        "predicted = export_model.predict(tf.expand_dims(user_str, -1))[0][0]\n",
        "print(f'예측 결과: {raw_train_ds.class_names[int(round(predicted))]} ({predicted:0.4f})')"
      ],
      "execution_count": null,
      "outputs": [
        {
          "output_type": "stream",
          "text": [
            "테스트 입력: A brilliant Russian émigré devises the Stanislavsky' system for winning at contract bridge - which makes him and his beautiful wife the GRAND SLAM Sweethearts of America.<br /><br />What could have been just another silly soap opera is elevated by fine production values & excellent acting to the status of a very enjoyable little comedy. A few unexpected touches are thrown in to keep the viewer's attention engaged - the way in which the principle cast is introduced as faces on a deck of cards; the introduction of a zany acrobat into the plot for no other reason than to enjoy a bit of lunacy; and the way in which a wide variety of different kinds of Americans are shown to be transfixed by listening to the broadcast of the concluding game.<br /><br />Paul Lukas & Loretta Young do very well as the Bridge Sweethearts - Lukas suave & sophisticated and Miss Young passionately loving and beautiful (even if the script keeps her puffing on a cigarette a bit too much). They are fun to watch, even when their behavior is not always the most believable or compelling.<br /><br />Frank McHugh gives another good performance as a relentlessly cheerful ghost writer who adores Miss Young. The delightful Glenda Farrell eschews her customary wisecracking persona in a small role as McHugh's ditsy gal pal. Roscoe Karns handles the fast-talking dialogue as a brash radio announcer. Diminutive Ferdinand Gottschalk is wonderful as a snobbish bridge expert.<br /><br />Movie mavens will recognize Dewey Robinson as a belligerent nightclub patron; Emma Dunn as a sob sister reporter; Paul Porcasi as the owner of the Russian nightclub; Charles Lane as a Russian waiter; and Jimmy Conlin as a kibitzer at the final bridge game - all uncredited.<br /><br />The film takes advantage of the fad for contract bridge which had swept across the country since its development in the 1920's. It expects the viewer to have a basic knowledge of the intricacies of the game and makes no attempt to explain anything to the uninformed.\n",
            "예측 결과: pos (0.9444)\n"
          ],
          "name": "stdout"
        }
      ]
    }
  ]
}