{
  "nbformat": 4,
  "nbformat_minor": 0,
  "metadata": {
    "colab": {
      "name": "아이리스 품종 분류",
      "provenance": [],
      "collapsed_sections": [],
      "authorship_tag": "ABX9TyPZiP8s5qkpng7klGrdA6Ed",
      "include_colab_link": true
    },
    "kernelspec": {
      "name": "python3",
      "display_name": "Python 3"
    },
    "accelerator": "GPU"
  },
  "cells": [
    {
      "cell_type": "markdown",
      "metadata": {
        "id": "view-in-github",
        "colab_type": "text"
      },
      "source": [
        "<a href=\"https://colab.research.google.com/github/ksy-20908/godoheon/blob/main/%EC%95%84%EC%9D%B4%EB%A6%AC%EC%8A%A4_%ED%92%88%EC%A2%85_%EB%B6%84%EB%A5%98.ipynb\" target=\"_parent\"><img src=\"https://colab.research.google.com/assets/colab-badge.svg\" alt=\"Open In Colab\"/></a>"
      ]
    },
    {
      "cell_type": "code",
      "metadata": {
        "id": "QjBk2HLSKQjz",
        "colab": {
          "base_uri": "https://localhost:8080/",
          "height": 863
        },
        "outputId": "9f0376da-e76d-4032-b84b-e61b2ffce79f"
      },
      "source": [
        "F###########################\n",
        "# 라이브러리 사용\n",
        "import tensorflow as tf\n",
        "import pandas as pd\n",
        " \n",
        "###########################\n",
        "# 1.과거의 데이터를 준비합니다.\n",
        "파일경로 = 'https://raw.githubusercontent.com/blackdew/tensorflow1/master/csv/iris.csv'\n",
        "아이리스 = pd.read_csv(파일경로)\n",
        "아이리스.head()\n",
        " \n",
        "# 원핫인코딩\n",
        "아이리스 = pd.get_dummies(아이리스)\n",
        " \n",
        "# 종속변수, 독립변수\n",
        "독립 = 아이리스[['꽃잎길이', '꽃잎폭', '꽃받침길이', '꽃받침폭']]\n",
        "종속 = 아이리스[['품종_setosa', '품종_versicolor', '품종_virginica']]\n",
        "print(독립.shape, 종속.shape)\n",
        " \n",
        "###########################\n",
        "# 2. 모델의 구조를 만듭니다\n",
        "X = tf.keras.layers.Input(shape=[4])\n",
        "Y = tf.keras.layers.Dense(3, activation='softmax')(X)\n",
        "model = tf.keras.models.Model(X, Y)\n",
        "model.compile(loss='categorical_crossentropy',\n",
        "              metrics='accuracy')\n",
        " \n",
        "###########################\n",
        "# 3.데이터로 모델을 학습(FIT)합니다.\n",
        "model.fit(독립, 종속, epochs=1000, verbose=0)\n",
        "model.fit(독립, 종속, epochs=10)\n",
        " \n",
        "###########################\n",
        "# 4. 모델을 이용합니다\n",
        "# 맨 처음 데이터 5개\n",
        "print(model.predict(독립[:5]))\n",
        "print(종속[:5])\n",
        " \n",
        "# 맨 마지막 데이터 5개\n",
        "print(model.predict(독립[-5:]))\n",
        "print(종속[-5:])\n",
        " \n",
        "###########################\n",
        "# weights & bias 출력\n",
        "print(model.get_weights())"
      ],
      "execution_count": null,
      "outputs": [
        {
          "output_type": "stream",
          "text": [
            "(150, 4) (150, 3)\n",
            "Epoch 1/10\n",
            "5/5 [==============================] - 0s 2ms/step - loss: 0.1449 - accuracy: 0.9667\n",
            "Epoch 2/10\n",
            "5/5 [==============================] - 0s 2ms/step - loss: 0.1447 - accuracy: 0.9733\n",
            "Epoch 3/10\n",
            "5/5 [==============================] - 0s 2ms/step - loss: 0.1447 - accuracy: 0.9733\n",
            "Epoch 4/10\n",
            "5/5 [==============================] - 0s 2ms/step - loss: 0.1446 - accuracy: 0.9733\n",
            "Epoch 5/10\n",
            "5/5 [==============================] - 0s 2ms/step - loss: 0.1444 - accuracy: 0.9600\n",
            "Epoch 6/10\n",
            "5/5 [==============================] - 0s 2ms/step - loss: 0.1441 - accuracy: 0.9733\n",
            "Epoch 7/10\n",
            "5/5 [==============================] - 0s 2ms/step - loss: 0.1442 - accuracy: 0.9667\n",
            "Epoch 8/10\n",
            "5/5 [==============================] - 0s 2ms/step - loss: 0.1445 - accuracy: 0.9733\n",
            "Epoch 9/10\n",
            "5/5 [==============================] - 0s 2ms/step - loss: 0.1441 - accuracy: 0.9733\n",
            "Epoch 10/10\n",
            "5/5 [==============================] - 0s 2ms/step - loss: 0.1436 - accuracy: 0.9733\n",
            "[[9.9910152e-01 8.9850719e-04 2.0127157e-08]\n",
            " [9.9668163e-01 3.3181175e-03 2.1151050e-07]\n",
            " [9.9840349e-01 1.5964234e-03 8.0977131e-08]\n",
            " [9.9552143e-01 4.4782357e-03 3.9897461e-07]\n",
            " [9.9925095e-01 7.4905658e-04 1.6065679e-08]]\n",
            "   품종_setosa  품종_versicolor  품종_virginica\n",
            "0          1              0             0\n",
            "1          1              0             0\n",
            "2          1              0             0\n",
            "3          1              0             0\n",
            "4          1              0             0\n",
            "[[5.3247464e-07 7.7238098e-02 9.2276138e-01]\n",
            " [1.1955196e-06 1.4355822e-01 8.5644060e-01]\n",
            " [2.2559245e-06 1.9049227e-01 8.0950546e-01]\n",
            " [4.0291036e-07 6.2498685e-02 9.3750089e-01]\n",
            " [4.4674962e-06 2.3713146e-01 7.6286405e-01]]\n",
            "     품종_setosa  품종_versicolor  품종_virginica\n",
            "145          0              0             1\n",
            "146          0              0             1\n",
            "147          0              0             1\n",
            "148          0              0             1\n",
            "149          0              0             1\n",
            "[array([[ 0.7470583 ,  0.17779182, -1.0057325 ],\n",
            "       [ 2.9799469 ,  0.58996946, -1.0281953 ],\n",
            "       [-3.7898898 , -0.09773728,  1.3177538 ],\n",
            "       [-3.718338  , -1.5352885 ,  2.6992774 ]], dtype=float32), array([ 2.0019825 ,  0.65066236, -1.1848077 ], dtype=float32)]\n"
          ],
          "name": "stdout"
        }
      ]
    }
  ]
}