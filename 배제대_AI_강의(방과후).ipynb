{
  "nbformat": 4,
  "nbformat_minor": 0,
  "metadata": {
    "colab": {
      "name": "배제대 AI 강의(방과후)",
      "private_outputs": true,
      "provenance": [],
      "collapsed_sections": [],
      "authorship_tag": "ABX9TyPnYAC6nb7xGdiAS72YNK9d",
      "include_colab_link": true
    },
    "kernelspec": {
      "name": "python3",
      "display_name": "Python 3"
    },
    "accelerator": "GPU"
  },
  "cells": [
    {
      "cell_type": "markdown",
      "metadata": {
        "id": "view-in-github",
        "colab_type": "text"
      },
      "source": [
        "<a href=\"https://colab.research.google.com/github/ksy-20908/godoheon/blob/main/%EB%B0%B0%EC%A0%9C%EB%8C%80_AI_%EA%B0%95%EC%9D%98(%EB%B0%A9%EA%B3%BC%ED%9B%84).ipynb\" target=\"_parent\"><img src=\"https://colab.research.google.com/assets/colab-badge.svg\" alt=\"Open In Colab\"/></a>"
      ]
    },
    {
      "cell_type": "code",
      "metadata": {
        "id": "pJGJ3DaUb-01"
      },
      "source": [
        "# 서버에 자료요청\n",
        "import requests\n",
        "# bs4(많은 함수들을 묶어놓음)에서 BeautifulSoup 불러오기\n",
        "from bs4 import BeautifulSoup\n",
        "# BeautifulSoup.nead()나 BeautifulSoup.write()등등 더 필요한 기능들을 사용 가능\n",
        "# 네이버에서 'PSYCHO-PASS'을 키워드로 뉴스 검색\n",
        "url = \"https://search.naver.com/search.naver?where=nexearch&sm=tab_jum&query=PSYCHO-PASS\"\n",
        "\n",
        "response = requests.get(url)\n",
        "\n",
        "html = response.text\n",
        "# bs4가 없을 경우에는 bs4.BeautifulSoup()로 쓸것\n",
        "bs_obj = BeautifulSoup(html, \"html.parser\")\n",
        "\n",
        "atags = bs_obj.select('._sp_each_title')\n",
        "for atag in atags:\n",
        "    print(atag.text) "
      ],
      "execution_count": null,
      "outputs": []
    },
    {
      "cell_type": "code",
      "metadata": {
        "id": "2dt2CBdhiC2J"
      },
      "source": [
        "import requests\n",
        "from bs4 import BeautifulSoup\n",
        "\n",
        "#네이버에서 'PSYCHO-PASS'을 키워드로 뉴스 검색\n",
        "def crawler(maxpage, query, sort):\n",
        "    page = 1\n",
        "    maxpage_t = (int(maxpage)-1)*10+1   # 11=2페이지, 21=3페이지\n",
        "\n",
        "    while page <= maxpage_t:\n",
        "      # \\는 줄바꿈 즉 아직은 안끝났으므로 밑도 포함해서 봐라 생각하면 됨\n",
        "        url = \"https://search.naver.com/search.naver?&where=news&query=\" \\\n",
        "              + str(query) + \"&sm=tab_pge&sort=\"\\\n",
        "              + str(sort) + \"&photo=0&field=0&reporter_article=&pd=0&ds=&de=&docid=&nso=so:r,p:all,a:all&mynews=0&cluster_rank=92&start=\"\\\n",
        "              + str(page) + \"&refresh_start=0\"\n",
        "\n",
        "        response =  requests.get(url)\n",
        "        html = response.text\n",
        "        bs_obj = BeautifulSoup(html, \"html.parser\")\n",
        "\n",
        "        # 태그에서 제목 추출\n",
        "        atags = bs_obj.select('._sp_each_title')\n",
        "        for atag in atags:\n",
        "            print(atag.text)\n",
        "\n",
        "        page += 10\n",
        "\n",
        "crawler(2, \"PSYCHO-PASS\", 0) # 2개 페이지, 키워드는 “PSYCHO-PASS”, 0: 최신순으로 정렬"
      ],
      "execution_count": null,
      "outputs": []
    },
    {
      "cell_type": "code",
      "metadata": {
        "id": "DwRfYyFtm8nB"
      },
      "source": [
        "#key        value\n",
        "#\"class_name\":'happy' or 'sad'\n",
        "#\"confidence\":0~100\n",
        "\n",
        "#demo[\"class_name\"]=\n",
        "#demo[\"confidence\"]="
      ],
      "execution_count": null,
      "outputs": []
    },
    {
      "cell_type": "code",
      "metadata": {
        "id": "uX2_pMN-oImz"
      },
      "source": [
        "import requests\n",
        "from bs4 import BeautifulSoup\n",
        "import pandas as pd\n",
        "# 데이터에서 찾은 것만 내보낸다\n",
        "def crawl(url):\n",
        "    data = requests.get(url)\n",
        "    print(data, url)\n",
        "    return data.content\n",
        "\n",
        "def getProducInfo(tr):\n",
        "  # f12를 눌러서 부르고 싶은 문장이 어디 파일에있는지 찾기(ex 여기서는 td이다)\n",
        "    tds = tr.findAll(\"td\")\n",
        "    print(tds)\n",
        "    return{\"no\":tds[0].text, \"name\":tds[1].text, \"category\":tds[1].text, \"vendor\":tds[3].text, \"confirmNo\":tds[4].text, \"licenseNo\":tds[5].text}\n",
        "\n",
        "def parser(pageString):\n",
        "  #세세하게 찾기 위해서 사용(ex tr이 여러개일수도 있음)\n",
        "    bs_obj = BeautifulSoup(pageString, 'html.parser')\n",
        "    table = bs_obj.find(\"table\", {\"class\" : \"table table-striped2\"})\n",
        "    tbody = table.find(\"tbody\")\n",
        "    trs = tbody.findAll(\"tr\")\n",
        "    productInfos = []\n",
        "\n",
        "    for tr in trs:\n",
        "        productInfo = getProducInfo(tr)\n",
        "        productInfos.append(productInfo)\n",
        "\n",
        "    return productInfos\n",
        "\n",
        "productInfos = []\n",
        "\n",
        "# format(pageNo)앞에서 받은 것을 넣어서 검색\n",
        "def crawlPage(pageNo):\n",
        "    url = 'http://ecolife.me.go.kr/ecolife/sntryAid/index?page={}'.format(pageNo)\n",
        "    pageString = crawl(url)\n",
        "    products = parser(pageString)\n",
        "    return products\n",
        "\n",
        "#openpyxl library\n",
        "def save(df, filename):\n",
        "    writer = pd.ExcelWriter(filename)\n",
        "    df.to_excel(writer, 'Sheet1')\n",
        "    writer.save()\n",
        "\n",
        "result = []\n",
        "# pageNo는 변수 range(시작, 끝(이 숫자 앞에서 끝남), 더하는 것(아무것도 안쓰면 1)) :는 아직 끝나지 않았음을 알려줌\n",
        "for pageNo in range(1, 5):\n",
        "    result = result + crawlPage(pageNo)\n",
        "\n",
        "print(result)\n",
        "# len은 개수\n",
        "print(len(result))\n",
        "# pd 데이터의형식을 테이블 데이터형식대로 만드는거?\n",
        "df = pd.DataFrame(data=result)\n",
        "print(df.count())\n",
        "# 파일을 xlsx(텍스트 파일이므로 용량을 많이 차지하지 않음) 파일로 저장(보통은 csv파일로 저장)\n",
        "save(df, \"./ecolife.xlsx\")"
      ],
      "execution_count": null,
      "outputs": []
    },
    {
      "cell_type": "code",
      "metadata": {
        "id": "Ylu4Du0fvTnT"
      },
      "source": [
        "import tensorflow as tf\n",
        "tf.random.set_seed(777)\n",
        "\n",
        "from tensorflow.keras.models import Sequential #순차적\n",
        "from tensorflow.keras.layers import Dense      #레이어\n",
        "from tensorflow.keras.optimizers import RMSprop   \n",
        "from tensorflow.keras.losses import mse        #손실 계산"
      ],
      "execution_count": null,
      "outputs": []
    },
    {
      "cell_type": "code",
      "metadata": {
        "id": "kuVgyHESwmeM"
      },
      "source": [
        "# 활성화 함수\n",
        "# 시그모이드 함수\n",
        "def sigmoid(x):\n",
        "    return 1 / (1 + np.exp(-x))\n",
        "\n",
        "# 하이퍼볼릭탄젠트 함수\n",
        "def tanh(x):\n",
        "    return list(map(lambda x : math.tanh(x), x))\n",
        "\n",
        "# relu 함수\n",
        "def relu(x):\n",
        "    result = []\n",
        "    for ele in x:\n",
        "        if(ele <= 0):\n",
        "            result.append(0)\n",
        "        else:\n",
        "            result.append(ele)\n",
        "            \n",
        "    return result"
      ],
      "execution_count": null,
      "outputs": []
    },
    {
      "cell_type": "code",
      "metadata": {
        "id": "Py5KXuKHv1nW"
      },
      "source": [
        "import numpy as np\n",
        "\n",
        "# 데이터 준비하기 - XOR gate 정답으로 레이블 변경\n",
        "data = np.array([[0, 0], [1, 0], [0, 1], [1, 1]])\n",
        "label = np.array([[0], [1], [1], [0]])"
      ],
      "execution_count": null,
      "outputs": []
    },
    {
      "cell_type": "code",
      "metadata": {
        "id": "rGKfvYUvv6-O"
      },
      "source": [
        "# 모델 구성하기\n",
        "model = Sequential()\n",
        "model.add(Dense(32, input_shape = (2, ), activation = 'relu')) \n",
        "model.add(Dense(1, activation = 'sigmoid')) # 다층 퍼셉트론을 구성합니다"
      ],
      "execution_count": null,
      "outputs": []
    },
    {
      "cell_type": "code",
      "metadata": {
        "id": "x35sbAZ3xycY"
      },
      "source": [
        "big_lr=0.9\n",
        "mid_lr=0.3\n",
        "small_lr=0.1   "
      ],
      "execution_count": null,
      "outputs": []
    },
    {
      "cell_type": "code",
      "metadata": {
        "id": "S2nf28BwwUUw"
      },
      "source": [
        "# 모델 설정하기\n",
        "model.compile(optimizer = RMSprop(), loss = mse, metrics = ['acc'])"
      ],
      "execution_count": null,
      "outputs": []
    },
    {
      "cell_type": "code",
      "metadata": {
        "id": "Fgpve6fowbjN"
      },
      "source": [
        "#모델 확인하기\n",
        "model.summary()\n",
        "tf.keras.utils.plot_model(model, show_shapes=True, show_layer_names=True,rankdir='TB', expand_nested=False, dpi=96)"
      ],
      "execution_count": null,
      "outputs": []
    },
    {
      "cell_type": "code",
      "metadata": {
        "id": "k60VOHRwwmUH"
      },
      "source": [
        "# 학습시키기\n",
        "history =  model.fit(data, label, epochs = 200)"
      ],
      "execution_count": null,
      "outputs": []
    },
    {
      "cell_type": "code",
      "metadata": {
        "id": "zUCEL9FcwmbG"
      },
      "source": [
        "# 학습결과 그려보기\n",
        "# evaluate()\n",
        "model.evaluate(data, label)\n",
        "\n",
        "# predict()\n",
        "preds = model.predict(data)\n",
        "for a, b in zip(preds, label):\n",
        "  print(f\"예측값 {a} 정답 {b}\")"
      ],
      "execution_count": null,
      "outputs": []
    },
    {
      "cell_type": "code",
      "metadata": {
        "id": "ZnxQY5T5saM0"
      },
      "source": [
        "import tensorflow as tf\n",
        "import numpy as np\n",
        "import pandas as pd\n",
        "\n",
        "df=pd.read_csv(\"data.csv\")"
      ],
      "execution_count": null,
      "outputs": []
    },
    {
      "cell_type": "code",
      "metadata": {
        "id": "2JPMmoHjt45L"
      },
      "source": [
        "import matplotlib.pyplot as plt\n",
        "%matplotlib inline\n",
        "\n",
        "import warnings\n",
        "warnings.filterwarnings(\"ignore\")\n",
        "#pd.set_option(\"display.expand_frame_repr\", False)"
      ],
      "execution_count": null,
      "outputs": []
    },
    {
      "cell_type": "code",
      "metadata": {
        "id": "zpiNjVcDuAzp"
      },
      "source": [
        "df.head(10)"
      ],
      "execution_count": null,
      "outputs": []
    },
    {
      "cell_type": "code",
      "metadata": {
        "id": "1IsSEObGuIth"
      },
      "source": [
        "plt.scatter(df['X'], df['y'])"
      ],
      "execution_count": null,
      "outputs": []
    },
    {
      "cell_type": "code",
      "metadata": {
        "id": "j9bl1ezFuYWk"
      },
      "source": [
        "# 모델 생성\n",
        "model = tf.keras.Sequential()\n",
        "model.add(tf.keras.layers.Dense(1, input_shape = [1]))"
      ],
      "execution_count": null,
      "outputs": []
    },
    {
      "cell_type": "code",
      "metadata": {
        "id": "mSPieulGujsK"
      },
      "source": [
        "# 모델 확인\n",
        "model.summary()"
      ],
      "execution_count": null,
      "outputs": []
    },
    {
      "cell_type": "code",
      "metadata": {
        "id": "zNPWzEAOuw9p"
      },
      "source": [
        "# 모델 학습\n",
        "model.compile(loss='mean_squared_error', optimizer=tf.keras.optimizers.Adam(0.01))"
      ],
      "execution_count": null,
      "outputs": []
    },
    {
      "cell_type": "code",
      "metadata": {
        "id": "4s-JO8NCvmmN"
      },
      "source": [
        "history = model.fit(df[\"X\"], df['y'], epochs=300)"
      ],
      "execution_count": null,
      "outputs": []
    },
    {
      "cell_type": "code",
      "metadata": {
        "id": "NbOEmSADvoSE"
      },
      "source": [
        "plt.plot(history.history['loss'])"
      ],
      "execution_count": null,
      "outputs": []
    },
    {
      "cell_type": "code",
      "metadata": {
        "id": "q-CxstBVvri0"
      },
      "source": [
        "df[\"prediction\"] = model.predict(df['X'])"
      ],
      "execution_count": null,
      "outputs": []
    },
    {
      "cell_type": "code",
      "metadata": {
        "id": "TpG3hseXvwLc"
      },
      "source": [
        "plt.scatter(df['X'], df['y'])\n",
        "plt.plot(df['X'], df['prediction'], color='G')"
      ],
      "execution_count": null,
      "outputs": []
    },
    {
      "cell_type": "code",
      "metadata": {
        "id": "lraUC5Bbv-Nh"
      },
      "source": [
        "model.predict([500]) \n",
        "# 예측 = 회귀"
      ],
      "execution_count": null,
      "outputs": []
    },
    {
      "cell_type": "code",
      "metadata": {
        "id": "4ZBaLZ-P2vgi"
      },
      "source": [
        "# 데이터 가져오기\n",
        "mnist = tf.keras.datasets.mnist\n",
        "(x_train, y_train), (x_test, y_test) = mnist.load_data()\n",
        "\n",
        "x_train, x_test = x_train / 255.0, x_test / 255.0\n",
        "\n",
        "print(f'학습용 데이터 {len(x_train)}개 테스트용 데이터 {len(x_test)}개 불러오기 완료!')"
      ],
      "execution_count": null,
      "outputs": []
    },
    {
      "cell_type": "code",
      "metadata": {
        "id": "fn9-V3eG22U_"
      },
      "source": [
        "### n번 이미지 확인\n",
        "import matplotlib.pylab as plt\n",
        "%matplotlib inline\n",
        "\n",
        "fig = plt.figure(figsize=(10, 10))\n",
        "ax = fig.add_subplot()\n",
        "ax.imshow(x_train[100])"
      ],
      "execution_count": null,
      "outputs": []
    },
    {
      "cell_type": "code",
      "metadata": {
        "id": "5cFClKME3g1q"
      },
      "source": [
        "model = tf.keras.models.Sequential([\n",
        "  tf.keras.layers.Flatten(input_shape=(28, 28)),\n",
        "  tf.keras.layers.Dense(128, activation='relu'),\n",
        "  tf.keras.layers.Dense(128, activation='relu'),\n",
        "  tf.keras.layers.Dense(128, activation='relu'),\n",
        "  tf.keras.layers.Dense(128, activation='relu'),\n",
        "  tf.keras.layers.Dropout(0.2),\n",
        "  tf.keras.layers.Dense(10)\n",
        "])\n",
        "\n",
        "loss_fn = tf.keras.losses.SparseCategoricalCrossentropy(from_logits=True)\n",
        "print(f'모델 생성 왼료!')"
      ],
      "execution_count": null,
      "outputs": []
    },
    {
      "cell_type": "code",
      "metadata": {
        "id": "2VzZ7Zad322B"
      },
      "source": [
        "model.summary()"
      ],
      "execution_count": null,
      "outputs": []
    },
    {
      "cell_type": "code",
      "metadata": {
        "id": "9r6F1LeU4LSy"
      },
      "source": [
        "# 학습 전 예측 결과\n",
        "predictions = model(x_train[:1]).numpy()\n",
        "result = np.argmax(tf.nn.softmax(predictions).numpy())\n",
        "print(f'학습 전 0번 이미지 예측 결과: {result}')"
      ],
      "execution_count": null,
      "outputs": []
    },
    {
      "cell_type": "code",
      "metadata": {
        "id": "TLM92Y_o3uFv"
      },
      "source": [
        "### 학습 시작!\n",
        "model.compile(optimizer='adam',\n",
        "              loss=loss_fn,\n",
        "              metrics=['accuracy'])\n",
        "model.fit(x_train, y_train, epochs=5)"
      ],
      "execution_count": null,
      "outputs": []
    },
    {
      "cell_type": "code",
      "metadata": {
        "id": "gPf8Z0Op4A-J"
      },
      "source": [
        "### 학습 후 예측 결과\n",
        "import numpy as np\n",
        "predictions = model(x_train[:1]).numpy()\n",
        "result = np.argmax(tf.nn.softmax(predictions).numpy())\n",
        "print(f'학습 후 0번 이미지 예측 결과: {result}')"
      ],
      "execution_count": null,
      "outputs": []
    },
    {
      "cell_type": "code",
      "metadata": {
        "id": "-lYLuVST5eUZ"
      },
      "source": [
        "# Fashion-MNIST 데이터셋 다운로드\n",
        "\n",
        "from tensorflow.keras.datasets.fashion_mnist import load_data\n",
        "(x_train, y_train), (x_test, y_test) = load_data()\n",
        "print(x_train.shape, x_test.shape)"
      ],
      "execution_count": null,
      "outputs": []
    },
    {
      "cell_type": "code",
      "metadata": {
        "id": "WKBWqSbg5evG"
      },
      "source": [
        "# 훈련데이터\n",
        "print(x_train.shape, y_train.shape)"
      ],
      "execution_count": null,
      "outputs": []
    },
    {
      "cell_type": "code",
      "metadata": {
        "id": "muZIvDLR5gvO"
      },
      "source": [
        "# 테스트데이터\n",
        "print(x_test.shape, y_test.shape)"
      ],
      "execution_count": null,
      "outputs": []
    },
    {
      "cell_type": "code",
      "metadata": {
        "id": "QZWr1ohc6IVS"
      },
      "source": [
        "# 데이터 그려보기\n",
        "\n",
        "import matplotlib.pyplot as plt\n",
        "import numpy as np\n",
        "np.random.seed(777)\n",
        "\n",
        "class_names = ['T-shirt/top', 'Trouser', 'Pullover', 'Dress', 'Coat', 'Sandal', 'Shirt', 'Sneaker', 'Bag', 'Ankle boot']\n",
        "sample_size = 9"
      ],
      "execution_count": null,
      "outputs": []
    },
    {
      "cell_type": "code",
      "metadata": {
        "id": "G9AaM-cY6KPq"
      },
      "source": [
        "# 0~59999 의 범위에서 무작위로 9개의 정수를 뽑습니다.\n",
        "random_idx = np.random.randint(60000, size=sample_size)\n",
        "\n",
        "plt.figure(figsize = (5,5))\n",
        "for i, idx in enumerate(random_idx):\n",
        "  plt.subplot(3,3,i+1)\n",
        "  plt.xticks([])\n",
        "  plt.yticks([])\n",
        "  plt.imshow(x_train[i], cmap='gray')\n",
        "  plt.xlabel(class_names[1])\n",
        "from sklearn.model_selection import train_test_split\n",
        "# 훈련/검증데이터를 0.7/0.3의 비율로 분리합니다\n",
        "x_train, x_val, y_train, y_val = train_test_split(x_train, y_train, test_size=0.3, random_state = 777)\n",
        "\n",
        "print(f\"훈련데이터 {x_train.shape} 레이블 {y_train.shape}\")\n",
        "print(f\"검증데이터 {x_val.shape} 레이블 {y_val.shape}\")"
      ],
      "execution_count": null,
      "outputs": []
    },
    {
      "cell_type": "code",
      "metadata": {
        "id": "8KtK4t976aWF"
      },
      "source": [
        "# 모델의 입력으로 사용하기 위한 전처리 과정\n",
        "x_train = x_train / 255\n",
        "x_val = x_val / 255\n",
        "x_test = x_test / 255\n",
        "from tensorflow.keras.utils import to_categorical"
      ],
      "execution_count": null,
      "outputs": []
    },
    {
      "cell_type": "code",
      "metadata": {
        "id": "m3moB0FR6cl8"
      },
      "source": [
        "# 각 데이터의 레이블을 범주형 형태로 변경합니다\n",
        "y_train = to_categorical(y_train)\n",
        "y_val = to_categorical(y_val)\n",
        "y_test = to_categorical(y_test)\n",
        "\n",
        "# <-- 이 단계를 여러 번 실행하면 배열의 차원이 달라집니다. fit할 때 에러날 수 있습니다.\n",
        "# <-- 이 경우 런타임을 초기화하고 다시 실행합니다.\n",
        "from tensorflow.keras.models import Sequential\n",
        "from tensorflow.keras.layers import Dense, Flatten\n",
        "\n",
        "first_model = Sequential()\n",
        "\n",
        "# 입력 데이터의 형태를 꼭 명시해야 합니다.\n",
        "\n",
        "# 784차원의 데이터를 입력으로 받고, 64개의 출력을 가지는 첫 번째 Dense 층\n",
        "first_model.add(Flatten(input_shape=(28,28)))     # 1차원으로 펴준다. (MNIST처럼 앞에서 28*28을 할 필요가 없었다.)\n",
        "first_model.add(Dense(64, activation='relu'))\n",
        "first_model.add(Dense(32, activation='relu'))     # 32개의 출력을 가지는 Dense층\n",
        "first_model.add(Dense(10, activation='softmax'))  # 10개의 출력을 가지는 신경망"
      ],
      "execution_count": null,
      "outputs": []
    },
    {
      "cell_type": "code",
      "metadata": {
        "id": "RKpNV2MM6pfd"
      },
      "source": [
        "first_model.summary()"
      ],
      "execution_count": null,
      "outputs": []
    },
    {
      "cell_type": "code",
      "metadata": {
        "id": "IQKqEd656wLx"
      },
      "source": [
        "import tensorflow as tf\n",
        "tf.keras.utils.plot_model(first_model, show_shapes=True, show_layer_names=True,rankdir='TB', expand_nested=False, dpi=96)"
      ],
      "execution_count": null,
      "outputs": []
    },
    {
      "cell_type": "code",
      "metadata": {
        "id": "7Wt09Oqe6-ky"
      },
      "source": [
        "# 소프트맥스 - 전체 합이 1이 나옴\n",
        "def softmax(arr):\n",
        "  m = np.max(arr)\n",
        "  arr = arr-m # exp의 오버플로우 방지\n",
        "  arr = np.exp(arr)\n",
        "  return arr/np.sum(arr)\n",
        "\n",
        "# 시그모이드\n",
        "def sigmoid(x):\n",
        "  return 1/(1+np.exp(-x))\n",
        "\n",
        "case_1 = np.array([3.1, 3.0, 2.9])\n",
        "case_2 = np.array([2.0, 1.0, 0.7])\n",
        "\n",
        "np.set_printoptions(precision=3)    # numpy의 소수점 제한\n",
        "print(f\"sigmoid {sigmoid(case_1)}, softmax {softmax(case_1)}\")\n",
        "print(f\"sigmoid {sigmoid(case_2)}, softmax {softmax(case_2)}\")"
      ],
      "execution_count": null,
      "outputs": []
    },
    {
      "cell_type": "code",
      "metadata": {
        "id": "CYAkmjHp7BYS"
      },
      "source": [
        "first_model.compile(loss='categorical_crossentropy', \n",
        "              optimizer='adam', \n",
        "              metrics=['acc'])"
      ],
      "execution_count": null,
      "outputs": []
    },
    {
      "cell_type": "code",
      "metadata": {
        "id": "SLLlqqSf7Ng_"
      },
      "source": [
        "first_history =  first_model.fit(x_train, y_train, \n",
        "                    epochs=30, \n",
        "                    batch_size=128,\n",
        "                    validation_data = (x_val, y_val))"
      ],
      "execution_count": null,
      "outputs": []
    },
    {
      "cell_type": "code",
      "metadata": {
        "id": "32NyeBTQ7d9C"
      },
      "source": [
        "# history를 통해 확인해볼 수 있는 값 출력해보자\n",
        "first_history.history.keys()"
      ],
      "execution_count": null,
      "outputs": []
    },
    {
      "cell_type": "code",
      "metadata": {
        "id": "ViFOhrFc7oBP"
      },
      "source": [
        "# 학습 결과 그려보기\n",
        "import matplotlib.pyplot as plt\n",
        "\n",
        "his_dict = first_history.history\n",
        "loss = his_dict['loss']\n",
        "val_loss = his_dict['val_loss'] # 검증 데이터가 있는 경우 ‘val_’ 수식어가 붙습니다.\n",
        "\n",
        "epochs = range(1, len(loss) + 1)\n",
        "fig = plt.figure(figsize = (10, 5))\n",
        "\n",
        "# 훈련 및 검증 손실 그리기\n",
        "ax1 = fig.add_subplot(1, 2, 1)\n",
        "ax1.plot(epochs, loss, color = 'blue', label = 'train_loss')\n",
        "ax1.plot(epochs, val_loss, color = 'orange', label = 'val_loss')\n",
        "ax1.set_title('train and val loss')\n",
        "ax1.set_xlabel('epochs')\n",
        "ax1.set_ylabel('loss')\n",
        "ax1.legend()\n",
        "\n",
        "acc = his_dict['acc']\n",
        "val_acc = his_dict['val_acc']\n",
        "\n",
        "# 훈련 및 검증 정확도 그리기\n",
        "ax2 = fig.add_subplot(1, 2, 2)\n",
        "ax2.plot(epochs, acc, color = 'blue', label = 'train_acc')\n",
        "ax2.plot(epochs, val_acc, color = 'orange', label = 'val_acc')\n",
        "ax2.set_title('train and val acc')\n",
        "ax2.set_xlabel('epochs')\n",
        "ax2.set_ylabel('acc')\n",
        "ax2.legend()\n",
        "\n",
        "plt.show()"
      ],
      "execution_count": null,
      "outputs": []
    },
    {
      "cell_type": "code",
      "metadata": {
        "id": "5_lzBAZx8sz3"
      },
      "source": [
        "# 모델 평가하기\n",
        "scores = first_model.evaluate(x_test, y_test)\n",
        "# print(\"%s: %.2f%%\" %(model.metrics_names[1], scores[1]*100))"
      ],
      "execution_count": null,
      "outputs": []
    }
  ]
}