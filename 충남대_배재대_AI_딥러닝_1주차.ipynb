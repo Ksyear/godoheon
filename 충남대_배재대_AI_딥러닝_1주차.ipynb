{
  "nbformat": 4,
  "nbformat_minor": 0,
  "metadata": {
    "colab": {
      "name": "충남대 배재대 AI 딥러닝 1주차",
      "provenance": [],
      "collapsed_sections": [],
      "authorship_tag": "ABX9TyNpOq6pVDAzJX1n+78Q4pXo",
      "include_colab_link": true
    },
    "kernelspec": {
      "name": "python3",
      "display_name": "Python 3"
    },
    "accelerator": "GPU"
  },
  "cells": [
    {
      "cell_type": "markdown",
      "metadata": {
        "id": "view-in-github",
        "colab_type": "text"
      },
      "source": [
        "<a href=\"https://colab.research.google.com/github/ksy-20908/godoheon/blob/main/%EC%B6%A9%EB%82%A8%EB%8C%80_%EB%B0%B0%EC%9E%AC%EB%8C%80_AI_%EB%94%A5%EB%9F%AC%EB%8B%9D_1%EC%A3%BC%EC%B0%A8.ipynb\" target=\"_parent\"><img src=\"https://colab.research.google.com/assets/colab-badge.svg\" alt=\"Open In Colab\"/></a>"
      ]
    },
    {
      "cell_type": "code",
      "metadata": {
        "id": "kynm0boV9ynN",
        "colab": {
          "base_uri": "https://localhost:8080/",
          "height": 35
        },
        "outputId": "fb6e52ca-7aec-4bc0-f87d-d4d2ad828c9a"
      },
      "source": [
        "### 파이썬 3으로 인사하기\n",
        "print('안녕하세요')"
      ],
      "execution_count": null,
      "outputs": [
        {
          "output_type": "stream",
          "text": [
            "안녕하세요\n"
          ],
          "name": "stdout"
        }
      ]
    },
    {
      "cell_type": "code",
      "metadata": {
        "id": "AxhKi9Ns-J5t",
        "colab": {
          "base_uri": "https://localhost:8080/",
          "height": 35
        },
        "outputId": "b7ae9c3b-ff2b-4992-93b8-6cb94a33317d"
      },
      "source": [
        "### 덧셈 뺄셈 곱셈 나눗셈\n",
        "4-2"
      ],
      "execution_count": null,
      "outputs": [
        {
          "output_type": "execute_result",
          "data": {
            "text/plain": [
              "2"
            ]
          },
          "metadata": {
            "tags": []
          },
          "execution_count": 8
        }
      ]
    },
    {
      "cell_type": "code",
      "metadata": {
        "id": "xUEgRbUh-M3q",
        "colab": {
          "base_uri": "https://localhost:8080/",
          "height": 35
        },
        "outputId": "d3b64c09-9fc5-4576-d3a8-2445f44024a1"
      },
      "source": [
        "### 문자열?\n",
        "'이렇게'+' '+'합쳐서'+' '+'출력'"
      ],
      "execution_count": null,
      "outputs": [
        {
          "output_type": "execute_result",
          "data": {
            "application/vnd.google.colaboratory.intrinsic+json": {
              "type": "string"
            },
            "text/plain": [
              "'이렇게 합쳐서 출력'"
            ]
          },
          "metadata": {
            "tags": []
          },
          "execution_count": 9
        }
      ]
    },
    {
      "cell_type": "code",
      "metadata": {
        "id": "IW0YVliI-i1D",
        "colab": {
          "base_uri": "https://localhost:8080/",
          "height": 71
        },
        "outputId": "fd6a14c5-e008-4d4c-9c09-3bd64f5ddb21"
      },
      "source": [
        "### 덧셈기:자연수\n",
        "x=int(input('첫번째 피연산자를 입력하시오: '))\n",
        "y=int(input('두번째 피연산자를 입력하시오: '))\n",
        "print(f'{x}+{y}={x+y}')"
      ],
      "execution_count": null,
      "outputs": [
        {
          "output_type": "stream",
          "text": [
            "첫번째 피연산자를 입력하시오: 5\n",
            "두번째 피연산자를 입력하시오: 5\n",
            "5+5=10\n"
          ],
          "name": "stdout"
        }
      ]
    },
    {
      "cell_type": "code",
      "metadata": {
        "id": "18YuIxik_bT1",
        "colab": {
          "base_uri": "https://localhost:8080/",
          "height": 89
        },
        "outputId": "e545d6cf-bb7a-45b2-d968-e5a1bb43a84f"
      },
      "source": [
        "### 곱셈기:자연수\n",
        "x=int(input('첫번째 피연산자를 입력하시오: '))\n",
        "y=int(input('두번째 피연산자를 입력하시오: '))\n",
        "z=int(input('두번째 피연산자를 입력하시오: '))\n",
        "print(f'{x}x{y}x{z}={x*y*z}')"
      ],
      "execution_count": null,
      "outputs": [
        {
          "output_type": "stream",
          "text": [
            "첫번째 피연산자를 입력하시오: 5\n",
            "두번째 피연산자를 입력하시오: 5\n",
            "두번째 피연산자를 입력하시오: 5\n",
            "5x5x5=125\n"
          ],
          "name": "stdout"
        }
      ]
    },
    {
      "cell_type": "code",
      "metadata": {
        "id": "_qOVs0vH_2Y2",
        "colab": {
          "base_uri": "https://localhost:8080/",
          "height": 233
        },
        "outputId": "e7426ff2-d34d-4937-b988-d6e4368b4ed3"
      },
      "source": [
        "### 플로우 컨트롤: for loop\n",
        "import time\n",
        "\n",
        "print('로켓 발사 카운터 다운!')\n",
        "for number in range(10,0,-1):\n",
        "  print(f'발사{number}초 전!')\n",
        "  time.sleep(1)\n",
        "print(f'로켓 발사!')"
      ],
      "execution_count": null,
      "outputs": [
        {
          "output_type": "stream",
          "text": [
            "로켓 발사 카운터 다운!\n",
            "발사10초 전!\n",
            "발사9초 전!\n",
            "발사8초 전!\n",
            "발사7초 전!\n",
            "발사6초 전!\n",
            "발사5초 전!\n",
            "발사4초 전!\n",
            "발사3초 전!\n",
            "발사2초 전!\n",
            "발사1초 전!\n",
            "로켓 발사!\n"
          ],
          "name": "stdout"
        }
      ]
    },
    {
      "cell_type": "code",
      "metadata": {
        "id": "akxZ9czNAlGN",
        "colab": {
          "base_uri": "https://localhost:8080/",
          "height": 233
        },
        "outputId": "fd1b4252-aa4d-4c4a-b2a5-d7a965ad16b8"
      },
      "source": [
        "### 플로우 컨트롤: while loop\n",
        "print('비행기 이륙합니다!')\n",
        "height=0\n",
        "while height<10000:\n",
        "  print(f'고도 {height:05d}km')\n",
        "  height+=1000\n",
        "print(f'고도 {height:05d}km 도달')"
      ],
      "execution_count": null,
      "outputs": [
        {
          "output_type": "stream",
          "text": [
            "비행기 이륙합니다!\n",
            "고도 00000km\n",
            "고도 01000km\n",
            "고도 02000km\n",
            "고도 03000km\n",
            "고도 04000km\n",
            "고도 05000km\n",
            "고도 06000km\n",
            "고도 07000km\n",
            "고도 08000km\n",
            "고도 09000km\n",
            "고도 10000km 도달\n"
          ],
          "name": "stdout"
        }
      ]
    },
    {
      "cell_type": "code",
      "metadata": {
        "id": "vLWKgMaWBSkG",
        "colab": {
          "base_uri": "https://localhost:8080/",
          "height": 53
        },
        "outputId": "18648aac-b10f-4aa5-ebb2-87935241b936"
      },
      "source": [
        "### 짝수 출력 프로그램\n",
        "x=int(input('어디까지~? '))\n",
        "\n",
        "for number in range(0,x+1,2):\n",
        "  print(f'{number}')"
      ],
      "execution_count": null,
      "outputs": [
        {
          "output_type": "stream",
          "text": [
            "어디까지~? 1\n",
            "0\n"
          ],
          "name": "stdout"
        }
      ]
    },
    {
      "cell_type": "code",
      "metadata": {
        "id": "xTd1MAJVCaWO",
        "colab": {
          "base_uri": "https://localhost:8080/",
          "height": 89
        },
        "outputId": "f1c3f087-db3f-46c1-c2ef-35681601936f"
      },
      "source": [
        "### 분기문: if\n",
        "x=int(input('입력: '))\n",
        "print(f'{x}를 2로 나누어 봅니다.')\n",
        "while True:\n",
        "  x=x//2\n",
        "  print(f'x={x}')\n",
        "  if x<10:\n",
        "    print('x가 10보다 작아졌으므로 종료합니다.')\n",
        "    break\n",
        "  else:\n",
        "    print('x가 아직 10보다 크므로 계속합니다')"
      ],
      "execution_count": null,
      "outputs": [
        {
          "output_type": "stream",
          "text": [
            "입력: 1\n",
            "1를 2로 나누어 봅니다.\n",
            "x=0\n",
            "x가 10보다 작아졌으므로 종료합니다.\n"
          ],
          "name": "stdout"
        }
      ]
    },
    {
      "cell_type": "code",
      "metadata": {
        "id": "iL9pjdKeDrXf",
        "colab": {
          "base_uri": "https://localhost:8080/",
          "height": 71
        },
        "outputId": "d371c622-0960-4d20-980d-188b7ff57e35"
      },
      "source": [
        "### 곱셈 퀴즈 프로그램\n",
        "import random\n",
        "\n",
        "x=random.randint(1,10)\n",
        "result=x*random.randint(1,100)\n",
        "print(f'{x}x?={result}')\n",
        "y=int(input('정답: '))\n",
        "if y==(result/x):\n",
        "  print('정답입니다')\n",
        "else:\n",
        "  print('오답입니다.')"
      ],
      "execution_count": null,
      "outputs": [
        {
          "output_type": "stream",
          "text": [
            "1x?=10\n",
            "정답: 1\n",
            "오답입니다.\n"
          ],
          "name": "stdout"
        }
      ]
    },
    {
      "cell_type": "code",
      "metadata": {
        "id": "4rJ-WbdWEqRW",
        "colab": {
          "base_uri": "https://localhost:8080/",
          "height": 53
        },
        "outputId": "a1aed30d-3f31-4c5f-bde6-259a791731d0"
      },
      "source": [
        "### 함수: 제곱\n",
        "def power2(num):\n",
        "  return num**2\n",
        "\n",
        "x=int(input('입력: '))\n",
        "x2=power2(x)\n",
        "print(f'{x}의 제곱은 {x2}입니다.')"
      ],
      "execution_count": null,
      "outputs": [
        {
          "output_type": "stream",
          "text": [
            "입력: 10\n",
            "10의 제곱은 100입니다.\n"
          ],
          "name": "stdout"
        }
      ]
    },
    {
      "cell_type": "code",
      "metadata": {
        "id": "FXFKXqR8FTg3",
        "colab": {
          "base_uri": "https://localhost:8080/",
          "height": 215
        },
        "outputId": "a06cabe2-6e58-4657-9cc4-99140ec63552"
      },
      "source": [
        "### 구구단 출력\n",
        "def a(num):\n",
        "  for number in range(0,10,1):\n",
        "    print(f'{num}x{number}={num*number}')\n",
        "  return 0\n",
        "x=int(input('몇 단? '))\n",
        "a=a(x)"
      ],
      "execution_count": null,
      "outputs": [
        {
          "output_type": "stream",
          "text": [
            "몇 단? 1\n",
            "1x0=0\n",
            "1x1=1\n",
            "1x2=2\n",
            "1x3=3\n",
            "1x4=4\n",
            "1x5=5\n",
            "1x6=6\n",
            "1x7=7\n",
            "1x8=8\n",
            "1x9=9\n"
          ],
          "name": "stdout"
        }
      ]
    },
    {
      "cell_type": "code",
      "metadata": {
        "id": "wLtnKHVQGmXQ",
        "colab": {
          "base_uri": "https://localhost:8080/",
          "height": 125
        },
        "outputId": "9f8f3ef6-c278-405a-c66d-24b98d25f92a"
      },
      "source": [
        "### 리스트: 순서와 중복이 가능한 연속된 자료\n",
        "L=[4,2,3,4,9,1]\n",
        "for i in L:\n",
        "  print(i)"
      ],
      "execution_count": null,
      "outputs": [
        {
          "output_type": "stream",
          "text": [
            "4\n",
            "2\n",
            "3\n",
            "4\n",
            "9\n",
            "1\n"
          ],
          "name": "stdout"
        }
      ]
    },
    {
      "cell_type": "code",
      "metadata": {
        "id": "np9RJIhMKZoQ",
        "colab": {
          "base_uri": "https://localhost:8080/",
          "height": 244
        },
        "outputId": "ae82e3bc-06c6-4934-e857-841c78a21c69"
      },
      "source": [
        "### 구구단 리스트 만들기\n",
        "l=list() # []\n",
        "dan=int(input('몇 단? '))\n",
        "for i in range(0,10):\n",
        "  l.append(product(dan,i))\n",
        "print(f'{dan}단: {l}')"
      ],
      "execution_count": null,
      "outputs": [
        {
          "output_type": "stream",
          "text": [
            "몇 단? 9\n"
          ],
          "name": "stdout"
        },
        {
          "output_type": "error",
          "ename": "NameError",
          "evalue": "ignored",
          "traceback": [
            "\u001b[0;31m---------------------------------------------------------------------------\u001b[0m",
            "\u001b[0;31mNameError\u001b[0m                                 Traceback (most recent call last)",
            "\u001b[0;32m<ipython-input-1-99908d711f7e>\u001b[0m in \u001b[0;36m<module>\u001b[0;34m()\u001b[0m\n\u001b[1;32m      3\u001b[0m \u001b[0mdan\u001b[0m\u001b[0;34m=\u001b[0m\u001b[0mint\u001b[0m\u001b[0;34m(\u001b[0m\u001b[0minput\u001b[0m\u001b[0;34m(\u001b[0m\u001b[0;34m'몇 단? '\u001b[0m\u001b[0;34m)\u001b[0m\u001b[0;34m)\u001b[0m\u001b[0;34m\u001b[0m\u001b[0;34m\u001b[0m\u001b[0m\n\u001b[1;32m      4\u001b[0m \u001b[0;32mfor\u001b[0m \u001b[0mi\u001b[0m \u001b[0;32min\u001b[0m \u001b[0mrange\u001b[0m\u001b[0;34m(\u001b[0m\u001b[0;36m0\u001b[0m\u001b[0;34m,\u001b[0m\u001b[0;36m10\u001b[0m\u001b[0;34m)\u001b[0m\u001b[0;34m:\u001b[0m\u001b[0;34m\u001b[0m\u001b[0;34m\u001b[0m\u001b[0m\n\u001b[0;32m----> 5\u001b[0;31m   \u001b[0ml\u001b[0m\u001b[0;34m.\u001b[0m\u001b[0mappend\u001b[0m\u001b[0;34m(\u001b[0m\u001b[0mproduct\u001b[0m\u001b[0;34m(\u001b[0m\u001b[0mdan\u001b[0m\u001b[0;34m,\u001b[0m\u001b[0mi\u001b[0m\u001b[0;34m)\u001b[0m\u001b[0;34m)\u001b[0m\u001b[0;34m\u001b[0m\u001b[0;34m\u001b[0m\u001b[0m\n\u001b[0m\u001b[1;32m      6\u001b[0m \u001b[0mprint\u001b[0m\u001b[0;34m(\u001b[0m\u001b[0;34mf'{dan}단: {l}'\u001b[0m\u001b[0;34m)\u001b[0m\u001b[0;34m\u001b[0m\u001b[0;34m\u001b[0m\u001b[0m\n",
            "\u001b[0;31mNameError\u001b[0m: name 'product' is not defined"
          ]
        }
      ]
    },
    {
      "cell_type": "code",
      "metadata": {
        "id": "VgMmWxhQJ1pQ",
        "colab": {
          "base_uri": "https://localhost:8080/",
          "height": 226
        },
        "outputId": "9cf729ec-378b-43a5-cf67-54351839b62c"
      },
      "source": [
        "### 리스트 참조\n",
        "i=4\n",
        "j=-1\n",
        "print(f'길이 {len(l)}')\n",
        "print(f'{i}번째 원소와 {j}번째 원소의 합: {l[4]+l[-1]}')"
      ],
      "execution_count": null,
      "outputs": [
        {
          "output_type": "stream",
          "text": [
            "길이 0\n"
          ],
          "name": "stdout"
        },
        {
          "output_type": "error",
          "ename": "IndexError",
          "evalue": "ignored",
          "traceback": [
            "\u001b[0;31m---------------------------------------------------------------------------\u001b[0m",
            "\u001b[0;31mIndexError\u001b[0m                                Traceback (most recent call last)",
            "\u001b[0;32m<ipython-input-23-b3abd565f4e0>\u001b[0m in \u001b[0;36m<module>\u001b[0;34m()\u001b[0m\n\u001b[1;32m      3\u001b[0m \u001b[0mj\u001b[0m\u001b[0;34m=\u001b[0m\u001b[0;34m-\u001b[0m\u001b[0;36m1\u001b[0m\u001b[0;34m\u001b[0m\u001b[0;34m\u001b[0m\u001b[0m\n\u001b[1;32m      4\u001b[0m \u001b[0mprint\u001b[0m\u001b[0;34m(\u001b[0m\u001b[0;34mf'길이 {len(l)}'\u001b[0m\u001b[0;34m)\u001b[0m\u001b[0;34m\u001b[0m\u001b[0;34m\u001b[0m\u001b[0m\n\u001b[0;32m----> 5\u001b[0;31m \u001b[0mprint\u001b[0m\u001b[0;34m(\u001b[0m\u001b[0;34mf'{i}번째 원소와 {j}번째 원소의 합: {l[4]+l[-1]}'\u001b[0m\u001b[0;34m)\u001b[0m\u001b[0;34m\u001b[0m\u001b[0;34m\u001b[0m\u001b[0m\n\u001b[0m",
            "\u001b[0;31mIndexError\u001b[0m: list index out of range"
          ]
        }
      ]
    },
    {
      "cell_type": "code",
      "metadata": {
        "id": "okKWDBPoN7LY",
        "colab": {
          "base_uri": "https://localhost:8080/",
          "height": 262
        },
        "outputId": "0ab1d3f7-6767-4e17-fb2b-922126bcf577"
      },
      "source": [
        "### 구구단 짝수번째 원소 합\n",
        "l = list() # []\n",
        "dan = int(input('몇 단? '))\n",
        "for i in range(0, 10):\n",
        "    l.append(product(dan, i))\n",
        "print(f'{dan}단: {l}')\n",
        "s = 0\n",
        "for i in range(0, len(l)):\n",
        "    if i%2 == 0:\n",
        "        s += l[i]\n",
        "print(f'{dan}단 짝수번째 원소들의 합: {s}')"
      ],
      "execution_count": null,
      "outputs": [
        {
          "output_type": "stream",
          "text": [
            "몇 단? 10\n"
          ],
          "name": "stdout"
        },
        {
          "output_type": "error",
          "ename": "NameError",
          "evalue": "ignored",
          "traceback": [
            "\u001b[0;31m---------------------------------------------------------------------------\u001b[0m",
            "\u001b[0;31mNameError\u001b[0m                                 Traceback (most recent call last)",
            "\u001b[0;32m<ipython-input-24-8cc8906998b1>\u001b[0m in \u001b[0;36m<module>\u001b[0;34m()\u001b[0m\n\u001b[1;32m      3\u001b[0m \u001b[0mdan\u001b[0m \u001b[0;34m=\u001b[0m \u001b[0mint\u001b[0m\u001b[0;34m(\u001b[0m\u001b[0minput\u001b[0m\u001b[0;34m(\u001b[0m\u001b[0;34m'몇 단? '\u001b[0m\u001b[0;34m)\u001b[0m\u001b[0;34m)\u001b[0m\u001b[0;34m\u001b[0m\u001b[0;34m\u001b[0m\u001b[0m\n\u001b[1;32m      4\u001b[0m \u001b[0;32mfor\u001b[0m \u001b[0mi\u001b[0m \u001b[0;32min\u001b[0m \u001b[0mrange\u001b[0m\u001b[0;34m(\u001b[0m\u001b[0;36m0\u001b[0m\u001b[0;34m,\u001b[0m \u001b[0;36m10\u001b[0m\u001b[0;34m)\u001b[0m\u001b[0;34m:\u001b[0m\u001b[0;34m\u001b[0m\u001b[0;34m\u001b[0m\u001b[0m\n\u001b[0;32m----> 5\u001b[0;31m     \u001b[0ml\u001b[0m\u001b[0;34m.\u001b[0m\u001b[0mappend\u001b[0m\u001b[0;34m(\u001b[0m\u001b[0mproduct\u001b[0m\u001b[0;34m(\u001b[0m\u001b[0mdan\u001b[0m\u001b[0;34m,\u001b[0m \u001b[0mi\u001b[0m\u001b[0;34m)\u001b[0m\u001b[0;34m)\u001b[0m\u001b[0;34m\u001b[0m\u001b[0;34m\u001b[0m\u001b[0m\n\u001b[0m\u001b[1;32m      6\u001b[0m \u001b[0mprint\u001b[0m\u001b[0;34m(\u001b[0m\u001b[0;34mf'{dan}단: {l}'\u001b[0m\u001b[0;34m)\u001b[0m\u001b[0;34m\u001b[0m\u001b[0;34m\u001b[0m\u001b[0m\n\u001b[1;32m      7\u001b[0m \u001b[0ms\u001b[0m \u001b[0;34m=\u001b[0m \u001b[0;36m0\u001b[0m\u001b[0;34m\u001b[0m\u001b[0;34m\u001b[0m\u001b[0m\n",
            "\u001b[0;31mNameError\u001b[0m: name 'product' is not defined"
          ]
        }
      ]
    },
    {
      "cell_type": "code",
      "metadata": {
        "id": "tkr1Ynw0OYDq",
        "colab": {
          "base_uri": "https://localhost:8080/",
          "height": 35
        },
        "outputId": "169ae66b-4b59-4833-bb8e-7848081ff6fe"
      },
      "source": [
        "### 사전형 저장\n",
        "x={'이름': '김승연',\n",
        "   '소속': '대전고등학교',\n",
        "   '나이': 32}\n",
        "print(x)"
      ],
      "execution_count": null,
      "outputs": [
        {
          "output_type": "stream",
          "text": [
            "{'이름': '김승연', '소속': '대전고등학교', '나이': 32}\n"
          ],
          "name": "stdout"
        }
      ]
    },
    {
      "cell_type": "code",
      "metadata": {
        "id": "W7GXZnEoOvrz",
        "colab": {
          "base_uri": "https://localhost:8080/",
          "height": 35
        },
        "outputId": "b0f64ced-eddc-4100-b920-d0b94ed125c7"
      },
      "source": [
        "### 사전형 참조\n",
        "print(f'이름: {x[\"이름\"]}, 나이: {x[\"나이\"]}')"
      ],
      "execution_count": null,
      "outputs": [
        {
          "output_type": "stream",
          "text": [
            "이름: 김승연, 나이: 32\n"
          ],
          "name": "stdout"
        }
      ]
    },
    {
      "cell_type": "code",
      "metadata": {
        "id": "MWzB0uxsPI3b",
        "colab": {
          "base_uri": "https://localhost:8080/",
          "height": 125
        },
        "outputId": "5fa230d6-6733-4abf-b57d-961a45cb49a3"
      },
      "source": [
        "### 주소록\n",
        "a=int(input('몇 명 저장? '))\n",
        "z=[]\n",
        "for i in range(0,a,1):\n",
        "  x=input('이름: ')\n",
        "  y=input('나이: ')\n",
        "  z.append({'이름': x,\n",
        "            '나이': y})\n",
        "print(f'주소록에는 {len(z)}명이 저장되어 있습니다.')\n",
        "print(f'주소록 내용:')\n",
        "for data in z:\n",
        "    print(data)"
      ],
      "execution_count": null,
      "outputs": [
        {
          "output_type": "stream",
          "text": [
            "몇 명 저장? 1\n",
            "이름: 1\n",
            "나이: \n",
            "주소록에는 1명이 저장되어 있습니다.\n",
            "주소록 내용:\n",
            "{'이름': '1', '나이': ''}\n"
          ],
          "name": "stdout"
        }
      ]
    },
    {
      "cell_type": "code",
      "metadata": {
        "id": "HK5MABfsRGrF",
        "colab": {
          "base_uri": "https://localhost:8080/",
          "height": 519
        },
        "outputId": "64009769-3536-4b78-99cb-34ccea08f49c"
      },
      "source": [
        "### 시각화\n",
        "import random\n",
        "numbers = list()\n",
        "for _ in range(0, 10):\n",
        "    numbers.append(random.randint(0, 10))\n",
        "print(f'무작위 생성: {numbers}')\n",
        "\n",
        "import matplotlib.pylab as plt\n",
        "%matplotlib inline\n",
        "\n",
        "fig = plt.figure(figsize= (8, 8))\n",
        "ax = fig.add_subplot()\n",
        "ax.plot(numbers)"
      ],
      "execution_count": null,
      "outputs": [
        {
          "output_type": "stream",
          "text": [
            "무작위 생성: [5, 10, 8, 2, 1, 8, 3, 4, 3, 4]\n"
          ],
          "name": "stdout"
        },
        {
          "output_type": "execute_result",
          "data": {
            "text/plain": [
              "[<matplotlib.lines.Line2D at 0x7f128d575c50>]"
            ]
          },
          "metadata": {
            "tags": []
          },
          "execution_count": 28
        },
        {
          "output_type": "display_data",
          "data": {
            "image/png": "[encoded data removed]",
            "text/plain": [
              "<Figure size 576x576 with 1 Axes>"
            ]
          },
          "metadata": {
            "tags": [],
            "needs_background": "light"
          }
        }
      ]
    },
    {
      "cell_type": "code",
      "metadata": {
        "id": "0nGCKbqrRY_Z",
        "colab": {
          "base_uri": "https://localhost:8080/",
          "height": 531
        },
        "outputId": "77444b26-1912-469f-fd66-24ea5d7dbff4"
      },
      "source": [
        "### 코로나 확진자 선 그래프\n",
        "import matplotlib.pylab as plt\n",
        "%matplotlib inline\n",
        "x = ['07/01', '07/02', '07/03', '07/04', '07/05', '07/06', '07/07']\n",
        "y = [51, 54, 61, 63, 61, 48, 44]\n",
        "\n",
        "fig = plt.figure(figsize=(8, 8))\n",
        "ax = fig.add_subplot()\n",
        "ax.set_ylim((0, 80))\n",
        "ax.set_title('COVID-19')\n",
        "ax.set_xlabel('Date')\n",
        "ax.set_ylabel('Counts')\n",
        "ax.plot(x, y)"
      ],
      "execution_count": null,
      "outputs": [
        {
          "output_type": "execute_result",
          "data": {
            "text/plain": [
              "[<matplotlib.lines.Line2D at 0x7f128d515780>]"
            ]
          },
          "metadata": {
            "tags": []
          },
          "execution_count": 29
        },
        {
          "output_type": "display_data",
          "data": {
            "image/png": "[encoded data removed]",
            "text/plain": [
              "<Figure size 576x576 with 1 Axes>"
            ]
          },
          "metadata": {
            "tags": [],
            "needs_background": "light"
          }
        }
      ]
    },
    {
      "cell_type": "code",
      "metadata": {
        "id": "5l_A83JxSvgE",
        "colab": {
          "base_uri": "https://localhost:8080/",
          "height": 35
        },
        "outputId": "560a0cc5-e684-4df2-bb24-8a982c97482f"
      },
      "source": [
        "### 데이터 불러오기\n",
        "import tensorflow as tf\n",
        "mnist = tf.keras.datasets.mnist\n",
        "\n",
        "(x_train, y_train), (x_test, y_test) = mnist.load_data()\n",
        "x_train, x_test = x_train / 255.0, x_test / 255.0\n",
        "print(f'학습용 데이터 {len(x_train)}개 불러오기 완료!')"
      ],
      "execution_count": null,
      "outputs": [
        {
          "output_type": "stream",
          "text": [
            "학습용 데이터 60000개 불러오기 완료!\n"
          ],
          "name": "stdout"
        }
      ]
    },
    {
      "cell_type": "code",
      "metadata": {
        "id": "92WmNHbBT5Bm",
        "colab": {
          "base_uri": "https://localhost:8080/",
          "height": 359
        },
        "outputId": "95570d6b-36d2-43d4-b613-cc19fd0cd994"
      },
      "source": [
        "### 학습용 모델 생성\n",
        "model = tf.keras.models.Sequential([\n",
        "  tf.keras.layers.Flatten(input_shape=(28, 28)),\n",
        "  tf.keras.layers.Dense(128, activation='relu'),\n",
        "  tf.keras.layers.Dense(128, activation='relu'),\n",
        "  tf.keras.layers.Dropout(0.2),\n",
        "  tf.keras.layers.Dense(10)\n",
        "])\n",
        "loss_fn = tf.keras.losses.SparseCategoricalCrossentropy(from_logits=True)\n",
        "print(f'모델 생성 왼료!')\n",
        "model.summary()"
      ],
      "execution_count": null,
      "outputs": [
        {
          "output_type": "stream",
          "text": [
            "모델 생성 왼료!\n",
            "Model: \"sequential_1\"\n",
            "_________________________________________________________________\n",
            "Layer (type)                 Output Shape              Param #   \n",
            "=================================================================\n",
            "flatten_1 (Flatten)          (None, 784)               0         \n",
            "_________________________________________________________________\n",
            "dense_2 (Dense)              (None, 128)               100480    \n",
            "_________________________________________________________________\n",
            "dense_3 (Dense)              (None, 128)               16512     \n",
            "_________________________________________________________________\n",
            "dropout_1 (Dropout)          (None, 128)               0         \n",
            "_________________________________________________________________\n",
            "dense_4 (Dense)              (None, 10)                1290      \n",
            "=================================================================\n",
            "Total params: 118,282\n",
            "Trainable params: 118,282\n",
            "Non-trainable params: 0\n",
            "_________________________________________________________________\n"
          ],
          "name": "stdout"
        }
      ]
    },
    {
      "cell_type": "code",
      "metadata": {
        "id": "jr4DQ6PSUVq2",
        "colab": {
          "base_uri": "https://localhost:8080/",
          "height": 283
        },
        "outputId": "2e2825fc-8b5e-4ea6-b915-d63a1abb3a6a"
      },
      "source": [
        "### 0번 이미지 확인\n",
        "import matplotlib.pylab as plt\n",
        "%matplotlib inline\n",
        "\n",
        "fig = plt.figure(figsize=(4, 4))\n",
        "ax = fig.add_subplot()\n",
        "ax.imshow(x_train[0])"
      ],
      "execution_count": null,
      "outputs": [
        {
          "output_type": "execute_result",
          "data": {
            "text/plain": [
              "<matplotlib.image.AxesImage at 0x7f1250071e10>"
            ]
          },
          "metadata": {
            "tags": []
          },
          "execution_count": 40
        },
        {
          "output_type": "display_data",
          "data": {
            "image/png": "[encoded data removed]",
            "text/plain": [
              "<Figure size 288x288 with 1 Axes>"
            ]
          },
          "metadata": {
            "tags": [],
            "needs_background": "light"
          }
        }
      ]
    },
    {
      "cell_type": "code",
      "metadata": {
        "id": "tHApbE77Up-t",
        "colab": {
          "base_uri": "https://localhost:8080/",
          "height": 35
        },
        "outputId": "61b90276-ab5c-4b2f-bc74-5bb5ad4f3b90"
      },
      "source": [
        "### 학습 전 예측 결과\n",
        "import numpy as np\n",
        "predictions = model(x_train[:1]).numpy()\n",
        "result = np.argmax(tf.nn.softmax(predictions).numpy())\n",
        "print(f'학습 전 0번 이미지 예측 결과: {result}')"
      ],
      "execution_count": null,
      "outputs": [
        {
          "output_type": "stream",
          "text": [
            "학습 전 0번 이미지 예측 결과: 3\n"
          ],
          "name": "stdout"
        }
      ]
    },
    {
      "cell_type": "code",
      "metadata": {
        "id": "86aFFZdgU63I",
        "colab": {
          "base_uri": "https://localhost:8080/",
          "height": 215
        },
        "outputId": "6c07c365-0cf1-4ddb-ea53-92b1e4b1d4fa"
      },
      "source": [
        "### 학습 시작!\n",
        "model.compile(optimizer='adam',\n",
        "              loss=loss_fn,\n",
        "              metrics=['accuracy'])\n",
        "model.fit(x_train, y_train, epochs=5)"
      ],
      "execution_count": null,
      "outputs": [
        {
          "output_type": "stream",
          "text": [
            "Epoch 1/5\n",
            "1875/1875 [==============================] - 5s 3ms/step - loss: 0.2536 - accuracy: 0.9257\n",
            "Epoch 2/5\n",
            "1875/1875 [==============================] - 5s 3ms/step - loss: 0.1064 - accuracy: 0.9675\n",
            "Epoch 3/5\n",
            "1875/1875 [==============================] - 5s 2ms/step - loss: 0.0776 - accuracy: 0.9756\n",
            "Epoch 4/5\n",
            "1875/1875 [==============================] - 5s 2ms/step - loss: 0.0611 - accuracy: 0.9808\n",
            "Epoch 5/5\n",
            "1875/1875 [==============================] - 5s 3ms/step - loss: 0.0488 - accuracy: 0.9843\n"
          ],
          "name": "stdout"
        },
        {
          "output_type": "execute_result",
          "data": {
            "text/plain": [
              "<tensorflow.python.keras.callbacks.History at 0x7f12000305f8>"
            ]
          },
          "metadata": {
            "tags": []
          },
          "execution_count": 42
        }
      ]
    },
    {
      "cell_type": "code",
      "metadata": {
        "id": "U2dwabP_VScn",
        "colab": {
          "base_uri": "https://localhost:8080/",
          "height": 35
        },
        "outputId": "af682440-1348-443b-c85f-00270c1ff8d3"
      },
      "source": [
        "### 학습 후 예측 결과\n",
        "import numpy as np\n",
        "predictions = model(x_train[:1]).numpy()\n",
        "result = np.argmax(tf.nn.softmax(predictions).numpy())\n",
        "print(f'학습 후 0번 이미지 예측 결과: {result}')"
      ],
      "execution_count": null,
      "outputs": [
        {
          "output_type": "stream",
          "text": [
            "학습 후 0번 이미지 예측 결과: 5\n"
          ],
          "name": "stdout"
        }
      ]
    }
  ]
}