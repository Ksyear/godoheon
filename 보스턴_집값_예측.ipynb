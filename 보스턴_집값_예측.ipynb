{
  "nbformat": 4,
  "nbformat_minor": 0,
  "metadata": {
    "colab": {
      "name": "보스턴 집값 예측",
      "provenance": [],
      "collapsed_sections": [],
      "authorship_tag": "ABX9TyPnPFIVYeS4VqUcWzLRtoJ9",
      "include_colab_link": true
    },
    "kernelspec": {
      "name": "python3",
      "display_name": "Python 3"
    }
  },
  "cells": [
    {
      "cell_type": "markdown",
      "metadata": {
        "id": "view-in-github",
        "colab_type": "text"
      },
      "source": [
        "<a href=\"https://colab.research.google.com/github/ksy-20908/godoheon/blob/main/%EB%B3%B4%EC%8A%A4%ED%84%B4_%EC%A7%91%EA%B0%92_%EC%98%88%EC%B8%A1.ipynb\" target=\"_parent\"><img src=\"https://colab.research.google.com/assets/colab-badge.svg\" alt=\"Open In Colab\"/></a>"
      ]
    },
    {
      "cell_type": "code",
      "metadata": {
        "id": "gISzk982KCCq",
        "colab": {
          "base_uri": "https://localhost:8080/",
          "height": 881
        },
        "outputId": "596e4040-c8c8-4a1c-f9f2-0d251be947f1"
      },
      "source": [
        "###########################\n",
        "# 라이브러리 사용\n",
        "import tensorflow as tf\n",
        "import pandas as pd\n",
        " \n",
        "###########################\n",
        "# 1.과거의 데이터를 준비합니다.\n",
        "파일경로 = 'https://raw.githubusercontent.com/blackdew/tensorflow1/master/csv/boston.csv'\n",
        "보스턴 = pd.read_csv(파일경로)\n",
        "print(보스턴.columns)\n",
        "보스턴.head()\n",
        " \n",
        "# 독립변수, 종속변수 분리 \n",
        "독립 = 보스턴[['crim', 'zn', 'indus', 'chas', 'nox', 'rm', 'age', 'dis', 'rad', 'tax',\n",
        "            'ptratio', 'b', 'lstat']]\n",
        "종속 = 보스턴[['medv']]\n",
        "print(독립.shape, 종속.shape)\n",
        " \n",
        "###########################\n",
        "# 2. 모델의 구조를 만듭니다\n",
        "X = tf.keras.layers.Input(shape=[13])\n",
        "Y = tf.keras.layers.Dense(1)(X)\n",
        "model = tf.keras.models.Model(X, Y)\n",
        "model.compile(loss='mse')\n",
        " \n",
        "###########################\n",
        "# 3.데이터로 모델을 학습(FIT)합니다.\n",
        "model.fit(독립, 종속, epochs=1000, verbose=0)\n",
        "model.fit(독립, 종속, epochs=10)\n",
        " \n",
        "###########################\n",
        "# 4. 모델을 이용합니다\n",
        "print(model.predict(독립[5:10]))\n",
        "# 종속변수 확인\n",
        "print(종속[5:10])\n",
        " \n",
        "###########################\n",
        "# 모델의 수식 확인\n",
        "print(model.get_weights())"
      ],
      "execution_count": null,
      "outputs": [
        {
          "output_type": "stream",
          "text": [
            "Index(['crim', 'zn', 'indus', 'chas', 'nox', 'rm', 'age', 'dis', 'rad', 'tax',\n",
            "       'ptratio', 'b', 'lstat', 'medv'],\n",
            "      dtype='object')\n",
            "(506, 13) (506, 1)\n",
            "Epoch 1/10\n",
            "16/16 [==============================] - 0s 1ms/step - loss: 26.6665\n",
            "Epoch 2/10\n",
            "16/16 [==============================] - 0s 958us/step - loss: 25.9456\n",
            "Epoch 3/10\n",
            "16/16 [==============================] - 0s 995us/step - loss: 26.4690\n",
            "Epoch 4/10\n",
            "16/16 [==============================] - 0s 1ms/step - loss: 26.0203\n",
            "Epoch 5/10\n",
            "16/16 [==============================] - 0s 1ms/step - loss: 26.2462\n",
            "Epoch 6/10\n",
            "16/16 [==============================] - 0s 967us/step - loss: 26.3994\n",
            "Epoch 7/10\n",
            "16/16 [==============================] - 0s 1ms/step - loss: 26.3215\n",
            "Epoch 8/10\n",
            "16/16 [==============================] - 0s 2ms/step - loss: 25.8730\n",
            "Epoch 9/10\n",
            "16/16 [==============================] - 0s 1ms/step - loss: 26.4400\n",
            "Epoch 10/10\n",
            "16/16 [==============================] - 0s 1ms/step - loss: 26.3441\n",
            "[[25.492397]\n",
            " [20.394497]\n",
            " [17.348389]\n",
            " [ 8.751755]\n",
            " [16.992764]]\n",
            "   medv\n",
            "5  28.7\n",
            "6  22.9\n",
            "7  27.1\n",
            "8  16.5\n",
            "9  18.9\n",
            "[array([[-0.08938462],\n",
            "       [ 0.06927387],\n",
            "       [-0.04516269],\n",
            "       [ 3.208227  ],\n",
            "       [ 1.2574997 ],\n",
            "       [ 4.063605  ],\n",
            "       [ 0.01601817],\n",
            "       [-0.8293779 ],\n",
            "       [ 0.15101238],\n",
            "       [-0.01058531],\n",
            "       [-0.03891998],\n",
            "       [ 0.01497717],\n",
            "       [-0.57437587]], dtype=float32), array([2.6905947], dtype=float32)]\n"
          ],
          "name": "stdout"
        }
      ]
    }
  ]
}