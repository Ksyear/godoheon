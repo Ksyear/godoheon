{
  "nbformat": 4,
  "nbformat_minor": 0,
  "metadata": {
    "colab": {
      "name": "레모네이드 판매 예측",
      "provenance": [],
      "authorship_tag": "ABX9TyNkH0DBINBdmnpMc8GOzudI",
      "include_colab_link": true
    },
    "kernelspec": {
      "name": "python3",
      "display_name": "Python 3"
    },
    "accelerator": "GPU"
  },
  "cells": [
    {
      "cell_type": "markdown",
      "metadata": {
        "id": "view-in-github",
        "colab_type": "text"
      },
      "source": [
        "<a href=\"https://colab.research.google.com/github/ksy-20908/godoheon/blob/main/%EB%A0%88%EB%AA%A8%EB%84%A4%EC%9D%B4%EB%93%9C_%ED%8C%90%EB%A7%A4_%EC%98%88%EC%B8%A1.ipynb\" target=\"_parent\"><img src=\"https://colab.research.google.com/assets/colab-badge.svg\" alt=\"Open In Colab\"/></a>"
      ]
    },
    {
      "cell_type": "code",
      "metadata": {
        "id": "P7pxBjFbMTce",
        "colab": {
          "base_uri": "https://localhost:8080/",
          "height": 521
        },
        "outputId": "9c1a6966-20b8-47da-a129-a1bd73385f19"
      },
      "source": [
        "###########################\n",
        "# 라이브러리 사용\n",
        "import tensorflow as tf\n",
        "import pandas as pd\n",
        " \n",
        "###########################\n",
        "# 데이터를 준비합니다.\n",
        "파일경로 = 'https://raw.githubusercontent.com/blackdew/tensorflow1/master/csv/lemonade.csv'\n",
        "레모네이드 = pd.read_csv(파일경로)\n",
        "레모네이드.head()\n",
        "# 종속변수, 독립변수\n",
        "독립 = 레모네이드[['온도']]\n",
        "종속 = 레모네이드[['판매량']]\n",
        "print(독립.shape, 종속.shape)\n",
        " \n",
        "###########################\n",
        "# 모델을 만듭니다.\n",
        "X = tf.keras.layers.Input(shape=[1])\n",
        "Y = tf.keras.layers.Dense(1)(X)\n",
        "model = tf.keras.models.Model(X, Y)\n",
        "model.compile(loss='mse')\n",
        " \n",
        "###########################\n",
        "# 모델을 학습시킵니다. \n",
        "model.fit(독립, 종속, epochs=1000, verbose=0)\n",
        "model.fit(독립, 종속, epochs=10)\n",
        " \n",
        "###########################\n",
        "# 모델을 이용합니다. \n",
        "print(model.predict(독립))\n",
        "print(model.predict([[15]]))"
      ],
      "execution_count": null,
      "outputs": [
        {
          "output_type": "stream",
          "text": [
            "(6, 1) (6, 1)\n",
            "Epoch 1/10\n",
            "1/1 [==============================] - 0s 2ms/step - loss: 19.9370\n",
            "Epoch 2/10\n",
            "1/1 [==============================] - 0s 3ms/step - loss: 19.7365\n",
            "Epoch 3/10\n",
            "1/1 [==============================] - 0s 3ms/step - loss: 19.5371\n",
            "Epoch 4/10\n",
            "1/1 [==============================] - 0s 7ms/step - loss: 19.3387\n",
            "Epoch 5/10\n",
            "1/1 [==============================] - 0s 2ms/step - loss: 19.1414\n",
            "Epoch 6/10\n",
            "1/1 [==============================] - 0s 2ms/step - loss: 18.9451\n",
            "Epoch 7/10\n",
            "1/1 [==============================] - 0s 2ms/step - loss: 18.7499\n",
            "Epoch 8/10\n",
            "1/1 [==============================] - 0s 2ms/step - loss: 18.5557\n",
            "Epoch 9/10\n",
            "1/1 [==============================] - 0s 3ms/step - loss: 18.3627\n",
            "Epoch 10/10\n",
            "1/1 [==============================] - 0s 1ms/step - loss: 18.1706\n",
            "[[36.358807]\n",
            " [38.12662 ]\n",
            " [39.89444 ]\n",
            " [41.662254]\n",
            " [43.43007 ]\n",
            " [45.197884]]\n",
            "[[27.51973]]\n"
          ],
          "name": "stdout"
        }
      ]
    }
  ]
}