{
  "nbformat": 4,
  "nbformat_minor": 0,
  "metadata": {
    "colab": {
      "name": "충남대 배재대 AI 딥러닝 4주차",
      "private_outputs": true,
      "provenance": [],
      "collapsed_sections": [],
      "authorship_tag": "ABX9TyNrEltLVbHvs5922bTppZ1D",
      "include_colab_link": true
    },
    "kernelspec": {
      "name": "python3",
      "display_name": "Python 3"
    },
    "accelerator": "GPU"
  },
  "cells": [
    {
      "cell_type": "markdown",
      "metadata": {
        "id": "view-in-github",
        "colab_type": "text"
      },
      "source": [
        "<a href=\"https://colab.research.google.com/github/ksy-20908/godoheon/blob/main/%EC%B6%A9%EB%82%A8%EB%8C%80_%EB%B0%B0%EC%9E%AC%EB%8C%80_AI_%EB%94%A5%EB%9F%AC%EB%8B%9D_4%EC%A3%BC%EC%B0%A8.ipynb\" target=\"_parent\"><img src=\"https://colab.research.google.com/assets/colab-badge.svg\" alt=\"Open In Colab\"/></a>"
      ]
    },
    {
      "cell_type": "code",
      "metadata": {
        "id": "k0xfJCTS3n75"
      },
      "source": [
        "# 도구 준비\n",
        "import os\n",
        "import shutil\n",
        "import random\n",
        "import math\n",
        "\n",
        "import tensorflow as tf\n",
        "import matplotlib.pyplot as plt\n",
        "%matplotlib inline\n",
        "import matplotlib.font_manager as fm\n",
        "import numpy as np\n",
        "\n",
        "print(f'Tensorflow 버전을 확인합니다: {tf.__version__}')"
      ],
      "execution_count": null,
      "outputs": []
    },
    {
      "cell_type": "code",
      "metadata": {
        "id": "dTOuQY2UFs-a"
      },
      "source": [
        "# CIFAR-10 데이터셋: 10진 분류 이미지 데이터 셋 다운로드\n",
        "# dataset_path = os.path.abspath(os.path.expanduser('~/.keras/datasets/')) # Linux\n",
        "# if os.path.exists(dataset_path):\n",
        "#     shutil.rmtree(dataset_path)\n",
        "(_train_images, train_labels), (_test_images, test_labels) = tf.keras.datasets.cifar10.load_data()"
      ],
      "execution_count": null,
      "outputs": []
    },
    {
      "cell_type": "code",
      "metadata": {
        "id": "DaoGGuaIF3YH"
      },
      "source": [
        "# CIFAR-10 데이터 둘러보기\n",
        "print(f'학습에 사용할 이미지는 {len(_train_images)}개 입니다.')\n",
        "print(f'학습한 후 테스트(검증)에 사용할 이미지는 {len(_test_images)}개 입니다.')"
      ],
      "execution_count": null,
      "outputs": []
    },
    {
      "cell_type": "code",
      "metadata": {
        "id": "nuDQrhiWF9BP"
      },
      "source": [
        "# CIFAR-10 데이터 레이블\n",
        "class_names = ['Airplane', 'Automobile', 'Bird', 'Cat', 'Deer',\n",
        "               'Dog', 'Frog', 'Horse', 'Ship', 'Truck']\n",
        "print(f'데이터의 레이블은 {len(class_names)}개 이며, 데이터셋에 포함되어 있지 않으므로 설명서에서 확인해야 합니다.')\n",
        "print('레이블 번호와 레이블: ')\n",
        "for i in range(0, len(class_names)):\n",
        "    print(f'{i}: {class_names[i]}')"
      ],
      "execution_count": null,
      "outputs": []
    },
    {
      "cell_type": "code",
      "metadata": {
        "id": "w38-0EVmF9IP"
      },
      "source": [
        "# 컬러 이미지 차원\n",
        "print(f'학습 이미지 형태: {_train_images.shape}')\n",
        "print(f'학습 레이블 형태: {train_labels.shape}')"
      ],
      "execution_count": null,
      "outputs": []
    },
    {
      "cell_type": "code",
      "metadata": {
        "id": "-IcTrU2LF9Mw"
      },
      "source": [
        "print(f'테스트 이미지 형태: {_test_images.shape}')\n",
        "print(f'테스트 레이블 형태: {test_labels.shape}')"
      ],
      "execution_count": null,
      "outputs": []
    },
    {
      "cell_type": "code",
      "metadata": {
        "id": "YiVaePh5F9Po"
      },
      "source": [
        "# 컬러 이미지 데이터 살펴보기(빨강색, ,파란색)\n",
        "print('데이터 상태')\n",
        "print(_train_images[0]) #RGB"
      ],
      "execution_count": null,
      "outputs": []
    },
    {
      "cell_type": "code",
      "metadata": {
        "id": "Fs5FYOVHGTg7"
      },
      "source": [
        "# 학습용 예제 이미지 확인! \n",
        "idx = 0 # 이미지확인 가능\n",
        "fig1 = plt.figure(figsize=(6, 6))\n",
        "ax = fig1.add_subplot()\n",
        "axm = ax.imshow(_train_images[idx])\n",
        "fig1.suptitle(f'Train image example [{idx}]', fontsize=20)\n",
        "ax.set_title(f'Label: {class_names[train_labels[idx][0]]}', fontsize=16)\n",
        "ax.grid(False)"
      ],
      "execution_count": null,
      "outputs": []
    },
    {
      "cell_type": "code",
      "metadata": {
        "id": "m4kMUo3HGTjo"
      },
      "source": [
        "# 학습 데이터 정규화\n",
        "print('인공 신경망은 주로 -1.0 ~ 1.0 사이의 값을 받습니다.')\n",
        "print('따라서 이미지를 255로 나누어줍니다.')\n",
        "train_images = _train_images / 255.0\n",
        "test_images = _test_images / 255.0"
      ],
      "execution_count": null,
      "outputs": []
    },
    {
      "cell_type": "code",
      "metadata": {
        "id": "FD64kGm2GTmH"
      },
      "source": [
        "# 정규화된 데이터 살펴보기\n",
        "print('데이터 상태')\n",
        "print(train_images[0])"
      ],
      "execution_count": null,
      "outputs": []
    },
    {
      "cell_type": "code",
      "metadata": {
        "id": "782w9-KWGToi"
      },
      "source": [
        "# 데이터 셋 확인!\n",
        "idx = 0\n",
        "fig2 = plt.figure(figsize=(6, 6))\n",
        "ax = fig2.add_subplot()\n",
        "axm = ax.imshow(train_images[idx])\n",
        "fig2.suptitle(f'Train image example [{idx}]', fontsize=20)\n",
        "ax.set_title(f'Label: {class_names[train_labels[idx][0]]}', fontsize=16)\n",
        "ax.grid(False)"
      ],
      "execution_count": null,
      "outputs": []
    },
    {
      "cell_type": "code",
      "metadata": {
        "id": "JSW9qSL_GZjA"
      },
      "source": [
        "# 데이터 셋 나열!\n",
        "fig3 = plt.figure(figsize=(12, 12))\n",
        "fig3.set_facecolor('white')\n",
        "for i in range(25):\n",
        "    ax = fig3.add_subplot(5, 5, i+1)\n",
        "    ax.imshow(train_images[i])\n",
        "    ax.set_xticks([])\n",
        "    ax.set_yticks([])\n",
        "    ax.set_title(class_names[train_labels[i][0]])"
      ],
      "execution_count": null,
      "outputs": []
    },
    {
      "cell_type": "code",
      "metadata": {
        "id": "lMWYy5wwGZlh"
      },
      "source": [
        "# 데이터 셋 레이블 확인!\n",
        "fig4 = plt.figure(figsize=(12, 12/5*2))\n",
        "fig4.set_facecolor('white')\n",
        "for i in range(10):\n",
        "    ax = fig4.add_subplot(2, 5, i+1)\n",
        "    for j in range(10000, len(train_images)):\n",
        "        if train_labels[j] == i:\n",
        "            break\n",
        "    ax.imshow(train_images[j])\n",
        "    ax.set_xticks([])\n",
        "    ax.set_yticks([])\n",
        "    ax.set_title(f'[{train_labels[j][0]}] {class_names[train_labels[j][0]]}', fontsize=12)"
      ],
      "execution_count": null,
      "outputs": []
    },
    {
      "cell_type": "code",
      "metadata": {
        "id": "7U4lHFB4GZoL"
      },
      "source": [
        "# 학습 모델 생성!\n",
        "#conv2d (Conv2D)가 가장 중요한 부분들 딥러닝이라고 부를 수 있는 부분\n",
        "print('모델 생성')\n",
        "model = tf.keras.Sequential([\n",
        "    tf.keras.layers.Conv2D(32, (3, 3), activation='relu', input_shape=(train_images.shape[1:])),\n",
        "    tf.keras.layers.MaxPooling2D((2, 2)),\n",
        "    tf.keras.layers.Conv2D(64, (3, 3), activation='relu'),\n",
        "    tf.keras.layers.MaxPooling2D((2, 2)),\n",
        "    tf.keras.layers.Conv2D(64, (3, 3), activation='relu'),\n",
        "    tf.keras.layers.Flatten(),\n",
        "    tf.keras.layers.Dense(64, activation='relu'),\n",
        "    tf.keras.layers.Dense(10)\n",
        "])\n",
        "model.summary()"
      ],
      "execution_count": null,
      "outputs": []
    },
    {
      "cell_type": "code",
      "metadata": {
        "id": "BSTSmU2AGZq4"
      },
      "source": [
        "# 학습 모델 컴파일\n",
        "print('모델 컴파일')\n",
        "model.compile(optimizer=tf.keras.optimizers.Adam(),\n",
        "              loss=tf.keras.losses.SparseCategoricalCrossentropy(from_logits=True),\n",
        "              metrics=['accuracy'])"
      ],
      "execution_count": null,
      "outputs": []
    },
    {
      "cell_type": "code",
      "metadata": {
        "id": "JAwtkYb3GZtf"
      },
      "source": [
        "# 학습!\n",
        "epochs = 20\n",
        "history = model.fit(train_images, train_labels, \n",
        "                    epochs=epochs,\n",
        "                    validation_data=(test_images, test_labels))"
      ],
      "execution_count": null,
      "outputs": []
    },
    {
      "cell_type": "code",
      "metadata": {
        "id": "vsEIdv4UGZwA"
      },
      "source": [
        "# 학습 손실 / 정확도, 검증 손실 / 정확도\n",
        "history_dict = history.history\n",
        "acc = history_dict['accuracy']\n",
        "val_acc = history_dict['val_accuracy']\n",
        "loss = history_dict['loss']\n",
        "val_loss = history_dict['val_loss']\n",
        "\n",
        "epochs = range(1, len(acc) + 1)\n",
        "\n",
        "fig1 = plt.figure(figsize=(6, 10))\n",
        "ax = fig1.add_subplot(2, 1, 1)\n",
        "ax.plot(epochs, loss, 'bo', label='Training loss')\n",
        "ax.plot(epochs, val_loss, 'b', label='Validation loss')\n",
        "ax.set_ylim((0, math.ceil(max(max(loss), max(val_loss)))))\n",
        "ax.set_title('Training and validation loss', fontsize=12)\n",
        "ax.set_xlabel('Epochs', fontsize=10)\n",
        "ax.set_ylabel('Loss', fontsize=10)\n",
        "ax.legend()\n",
        "\n",
        "ax = fig1.add_subplot(2, 1, 2)\n",
        "ax.plot(epochs, acc, 'bo', label='Training acc')\n",
        "ax.plot(epochs, val_acc, 'b', label='Validation acc')\n",
        "ax.set_ylim((0, math.ceil(max(max(acc), max(val_acc)))))\n",
        "ax.set_title('Training and validation accuracy', fontsize=12)\n",
        "ax.set_xlabel('Epochs', fontsize=10)\n",
        "ax.set_ylabel('Accuracy', fontsize=10)\n",
        "ax.legend()"
      ],
      "execution_count": null,
      "outputs": []
    },
    {
      "cell_type": "code",
      "metadata": {
        "id": "zn-ZxuvGGhmC"
      },
      "source": [
        "# (학습할 때 이미 했지만…) 모델 테스트\n",
        "print(f'{len(test_images)}개 이미지로 테스트합니다.')\n",
        "test_loss, test_acc = model.evaluate(test_images,  test_labels, verbose=2)\n",
        "print()\n",
        "print(f'테스트 이미지 정확도: {test_acc}')"
      ],
      "execution_count": null,
      "outputs": []
    },
    {
      "cell_type": "code",
      "metadata": {
        "id": "mcCdGrV7GhpJ"
      },
      "source": [
        "# 테스트 이미지로 확인!\n",
        "idx = 0\n",
        "fig5 = plt.figure(figsize=(6, 6))\n",
        "ax = fig5.add_subplot()\n",
        "axm = ax.imshow(test_images[idx])\n",
        "fig5.suptitle(f'Test Image [{idx}]', fontsize=20)\n",
        "ax.set_title(f'Label: {class_names[test_labels[idx][0]]}', fontsize=16)\n",
        "ax.grid(False)"
      ],
      "execution_count": null,
      "outputs": []
    },
    {
      "cell_type": "code",
      "metadata": {
        "id": "_CxnuqUbGkQR"
      },
      "source": [
        "# 이 사진이 A일 확률은?\n",
        "print('확률 모델')\n",
        "probability_model = tf.keras.Sequential([model, \n",
        "                                         tf.keras.layers.Softmax()])\n",
        "probability_model.summary()"
      ],
      "execution_count": null,
      "outputs": []
    },
    {
      "cell_type": "code",
      "metadata": {
        "id": "UcyDCV0GGkUc"
      },
      "source": [
        "print('각 테스트이미지별 레이블 확률 계산')\n",
        "predictions = probability_model.predict(test_images)"
      ],
      "execution_count": null,
      "outputs": []
    },
    {
      "cell_type": "code",
      "metadata": {
        "id": "Yj_mOyhXGkXp"
      },
      "source": [
        "# 테스트 이미지의 예측 확률\n",
        "idx = 0\n",
        "print(f'예측 레이블은 확률 중 최대 확률을 선택합니다.')\n",
        "print(f'Test image {idx} prediction: \\n{predictions[idx]}')\n",
        "print(f'Maximum probability label: {np.argmax(predictions[idx])}')\n",
        "print(f'Actual label: {test_labels[idx][0]}')"
      ],
      "execution_count": null,
      "outputs": []
    },
    {
      "cell_type": "code",
      "metadata": {
        "id": "Y3lhZ-AwGnwh"
      },
      "source": [
        "# 예측 확률 함수!\n",
        "# 이미지 함수 정의\n",
        "def draw_image(ax, prob, image, true_label):\n",
        "    ax.grid(False)\n",
        "    axm = ax.imshow(image)\n",
        "    ax.set_xticks([])\n",
        "    ax.set_yticks([])\n",
        "    predicted_label = np.argmax(prob)\n",
        "    if true_label == predicted_label:\n",
        "        color = 'blue'\n",
        "    else:\n",
        "        color = 'red'\n",
        "    predicted_name = class_names[predicted_label]\n",
        "    true_name = class_names[true_label]\n",
        "    label = f'{predicted_name} {np.max(prob)*100:3.0f}% ({true_name})'\n",
        "    ax.set_title(f'{label}', color=color)\n",
        "    \n",
        "def draw_bar(ax, prob, true_label):\n",
        "    ax.grid(False)\n",
        "    ax.set_xticks(range(10))\n",
        "    ax.set_yticks(np.arange(0, 1.2, 0.2))\n",
        "    bar = ax.bar(range(10), prob, color='gray')\n",
        "    ax.set_ylim((0, 1))\n",
        "    predicted_label = np.argmax(prob)\n",
        "    bar[predicted_label].set_color('red')\n",
        "    bar[true_label].set_color('blue')"
      ],
      "execution_count": null,
      "outputs": []
    },
    {
      "cell_type": "code",
      "metadata": {
        "id": "j2irNM0KGnzS"
      },
      "source": [
        "# 예측 결과?\n",
        "for i in range(len(test_images)):\n",
        "    if test_labels[i][0] == np.argmax(predictions[i]):\n",
        "        break\n",
        "fig6 = plt.figure(figsize=(6, 3))\n",
        "ax = fig6.add_subplot(1, 2, 1)\n",
        "draw_image(ax, predictions[i], test_images[i], test_labels[i][0])\n",
        "ax = fig6.add_subplot(1, 2, 2)\n",
        "draw_bar(ax, predictions[i], test_labels[i][0])"
      ],
      "execution_count": null,
      "outputs": []
    },
    {
      "cell_type": "code",
      "metadata": {
        "id": "h4ad2IBRGn17"
      },
      "source": [
        "for i in range(len(test_images)):\n",
        "    if test_labels[i] != np.argmax(predictions[i]):\n",
        "        break\n",
        "fig7 = plt.figure(figsize=(6, 3))\n",
        "ax = fig7.add_subplot(1, 2, 1)\n",
        "draw_image(ax, predictions[i], test_images[i], test_labels[i][0])\n",
        "ax = fig7.add_subplot(1, 2, 2)\n",
        "draw_bar(ax, predictions[i], test_labels[i][0])"
      ],
      "execution_count": null,
      "outputs": []
    },
    {
      "cell_type": "code",
      "metadata": {
        "id": "lK9t9-bDGn58"
      },
      "source": [
        "# 예측 확률과 예측 결과\n",
        "base = 5000\n",
        "rows = 1 * 5\n",
        "cols = 2 * 3\n",
        "fig8 = plt.figure(figsize=(2.5*cols, 2.5*rows))\n",
        "fig8.set_facecolor('white')\n",
        "for i in range(0, rows*cols, 2):\n",
        "    ax = fig8.add_subplot(rows, cols, i+1)\n",
        "    draw_image(ax, predictions[base+i], test_images[base+i], test_labels[base+i][0])\n",
        "    ax = fig8.add_subplot(rows, cols, i+2)\n",
        "    draw_bar(ax, predictions[base+i], test_labels[base+i][0])"
      ],
      "execution_count": null,
      "outputs": []
    },
    {
      "cell_type": "code",
      "metadata": {
        "id": "yCFOIcjLGsbZ"
      },
      "source": [
        "# CNN 시각화! ai가 직접 특징을 잡아서 만드게 만든게 cnn\n",
        "outputs = [layer.output for layer in model.layers[:-3]]\n",
        "intermediate_model = tf.keras.models.Model(inputs=model.input,\n",
        "                                           outputs=outputs)\n",
        "intermediate_model.summary()"
      ],
      "execution_count": null,
      "outputs": []
    },
    {
      "cell_type": "code",
      "metadata": {
        "id": "CV0Ns53CGseW"
      },
      "source": [
        "# CNN 시각화!\n",
        "image_idx = 0\n",
        "model_idx = 0\n",
        "intermediate_output = intermediate_model.predict(tf.expand_dims(test_images[image_idx], 0))\n",
        "data = intermediate_output[model_idx]\n",
        "\n",
        "fig9 = plt.figure(figsize=(3, 3))\n",
        "fig9.set_facecolor('white')\n",
        "ax = fig9.add_subplot()\n",
        "ax.imshow(train_images[image_idx])\n",
        "ax.grid(False)\n",
        "\n",
        "fig10 = plt.figure(figsize=(16, math.ceil(data.shape[-1]/16)))\n",
        "fig10.set_facecolor('white')\n",
        "for i in range(0, data.shape[-1]):\n",
        "    ax = fig10.add_subplot(math.ceil(data.shape[-1]/16), 16, i+1)\n",
        "    ax.imshow(data[0, :, :, i])\n",
        "    ax.set_xticks([])\n",
        "    ax.set_yticks([])\n",
        "    ax.grid(False)"
      ],
      "execution_count": null,
      "outputs": []
    },
    {
      "cell_type": "code",
      "metadata": {
        "id": "ODtzgLkmGsho"
      },
      "source": [
        "image_idx = 0\n",
        "intermediate_output = intermediate_model.predict(tf.expand_dims(test_images[image_idx], 0))\n",
        "\n",
        "fig9 = plt.figure(figsize=(3, 3))\n",
        "fig9.set_facecolor('white')\n",
        "ax = fig9.add_subplot()\n",
        "ax.imshow(train_images[image_idx])\n",
        "ax.grid(False)\n",
        "\n",
        "for layer_idx in range(0, len(intermediate_output)):\n",
        "    data = intermediate_output[layer_idx]\n",
        "    fig = plt.figure(figsize=(16, math.ceil(data.shape[-1]/16)))\n",
        "    fig.set_facecolor('white')\n",
        "    for i in range(0, data.shape[-1]):\n",
        "        ax = fig.add_subplot(math.ceil(data.shape[-1]/16), 16, i+1)\n",
        "        ax.imshow(data[0, :, :, i])\n",
        "        ax.set_xticks([])\n",
        "        ax.set_yticks([])\n",
        "        ax.grid(False)"
      ],
      "execution_count": null,
      "outputs": []
    }
  ]
}